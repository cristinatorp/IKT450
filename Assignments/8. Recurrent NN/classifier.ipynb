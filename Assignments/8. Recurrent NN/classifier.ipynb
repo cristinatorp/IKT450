{
 "cells": [
  {
   "cell_type": "markdown",
   "metadata": {},
   "source": [
    "# Chatbot\n",
    "* Make the chatbot so that you classify a category (i.e., tag) of input text\n",
    "    * Return a dialog from the correct class\n",
    "    * Note that one question could have multiple tags and you may need to simplify\n",
    "* Alternatively, make a sequence to sequence network that automatically learns what to respond\n",
    "    * It can be character based or word based\n",
    "* Hint:  Start with a subset of the dataset\n",
    "---"
   ]
  },
  {
   "cell_type": "code",
   "execution_count": 1,
   "metadata": {},
   "outputs": [],
   "source": [
    "import torch\n",
    "import torch.nn as nn\n",
    "import torch.nn.functional as F\n",
    "import torch.optim as optim\n",
    "from torchsummary import summary\n",
    "\n",
    "import numpy as np\n",
    "import pandas as pd\n",
    "import matplotlib.pyplot as plt\n",
    "from tqdm.notebook import tqdm, trange\n",
    "from nltk.stem import *\n",
    "\n",
    "import re\n",
    "import random\n",
    "np.random.seed(7)"
   ]
  },
  {
   "cell_type": "markdown",
   "metadata": {},
   "source": [
    "## Load into dataframes"
   ]
  },
  {
   "cell_type": "code",
   "execution_count": 2,
   "metadata": {},
   "outputs": [],
   "source": [
    "questions_df = pd.read_csv(\"./archive/Questions.csv\")\n",
    "answers_df = pd.read_csv(\"./archive/Answers.csv\")\n",
    "tags_df = pd.read_csv(\"./archive/Tags.csv\")"
   ]
  },
  {
   "cell_type": "code",
   "execution_count": 3,
   "metadata": {},
   "outputs": [
    {
     "data": {
      "text/html": [
       "<div>\n",
       "<style scoped>\n",
       "    .dataframe tbody tr th:only-of-type {\n",
       "        vertical-align: middle;\n",
       "    }\n",
       "\n",
       "    .dataframe tbody tr th {\n",
       "        vertical-align: top;\n",
       "    }\n",
       "\n",
       "    .dataframe thead th {\n",
       "        text-align: right;\n",
       "    }\n",
       "</style>\n",
       "<table border=\"1\" class=\"dataframe\">\n",
       "  <thead>\n",
       "    <tr style=\"text-align: right;\">\n",
       "      <th></th>\n",
       "      <th>Id</th>\n",
       "      <th>OwnerUserId</th>\n",
       "      <th>CreationDate</th>\n",
       "      <th>Score</th>\n",
       "      <th>Title</th>\n",
       "      <th>Body</th>\n",
       "    </tr>\n",
       "  </thead>\n",
       "  <tbody>\n",
       "    <tr>\n",
       "      <td>0</td>\n",
       "      <td>469</td>\n",
       "      <td>147.0</td>\n",
       "      <td>2008-08-02T15:11:16Z</td>\n",
       "      <td>21</td>\n",
       "      <td>How can I find the full path to a font from it...</td>\n",
       "      <td>&lt;p&gt;I am using the Photoshop's javascript API t...</td>\n",
       "    </tr>\n",
       "    <tr>\n",
       "      <td>1</td>\n",
       "      <td>502</td>\n",
       "      <td>147.0</td>\n",
       "      <td>2008-08-02T17:01:58Z</td>\n",
       "      <td>27</td>\n",
       "      <td>Get a preview JPEG of a PDF on Windows?</td>\n",
       "      <td>&lt;p&gt;I have a cross-platform (Python) applicatio...</td>\n",
       "    </tr>\n",
       "    <tr>\n",
       "      <td>2</td>\n",
       "      <td>535</td>\n",
       "      <td>154.0</td>\n",
       "      <td>2008-08-02T18:43:54Z</td>\n",
       "      <td>40</td>\n",
       "      <td>Continuous Integration System for a Python Cod...</td>\n",
       "      <td>&lt;p&gt;I'm starting work on a hobby project with a...</td>\n",
       "    </tr>\n",
       "    <tr>\n",
       "      <td>3</td>\n",
       "      <td>594</td>\n",
       "      <td>116.0</td>\n",
       "      <td>2008-08-03T01:15:08Z</td>\n",
       "      <td>25</td>\n",
       "      <td>cx_Oracle: How do I iterate over a result set?</td>\n",
       "      <td>&lt;p&gt;There are several ways to iterate over a re...</td>\n",
       "    </tr>\n",
       "    <tr>\n",
       "      <td>4</td>\n",
       "      <td>683</td>\n",
       "      <td>199.0</td>\n",
       "      <td>2008-08-03T13:19:16Z</td>\n",
       "      <td>28</td>\n",
       "      <td>Using 'in' to match an attribute of Python obj...</td>\n",
       "      <td>&lt;p&gt;I don't remember whether I was dreaming or ...</td>\n",
       "    </tr>\n",
       "    <tr>\n",
       "      <td>5</td>\n",
       "      <td>742</td>\n",
       "      <td>189.0</td>\n",
       "      <td>2008-08-03T15:55:28Z</td>\n",
       "      <td>30</td>\n",
       "      <td>Class views in Django</td>\n",
       "      <td>&lt;p&gt;&lt;a href=\"http://www.djangoproject.com/\"&gt;Dja...</td>\n",
       "    </tr>\n",
       "    <tr>\n",
       "      <td>6</td>\n",
       "      <td>766</td>\n",
       "      <td>1384652.0</td>\n",
       "      <td>2008-08-03T17:44:07Z</td>\n",
       "      <td>20</td>\n",
       "      <td>Python and MySQL</td>\n",
       "      <td>&lt;p&gt;I can get Python to work with Postgresql bu...</td>\n",
       "    </tr>\n",
       "    <tr>\n",
       "      <td>7</td>\n",
       "      <td>773</td>\n",
       "      <td>207.0</td>\n",
       "      <td>2008-08-03T18:27:09Z</td>\n",
       "      <td>256</td>\n",
       "      <td>How do I use Python's itertools.groupby()?</td>\n",
       "      <td>&lt;p&gt;I haven't been able to find an understandab...</td>\n",
       "    </tr>\n",
       "    <tr>\n",
       "      <td>8</td>\n",
       "      <td>972</td>\n",
       "      <td>145.0</td>\n",
       "      <td>2008-08-04T02:17:51Z</td>\n",
       "      <td>364</td>\n",
       "      <td>Adding a Method to an Existing Object Instance</td>\n",
       "      <td>&lt;p&gt;I've read that it is possible to add a meth...</td>\n",
       "    </tr>\n",
       "    <tr>\n",
       "      <td>9</td>\n",
       "      <td>1476</td>\n",
       "      <td>92.0</td>\n",
       "      <td>2008-08-04T18:20:36Z</td>\n",
       "      <td>251</td>\n",
       "      <td>How do you express binary literals in Python?</td>\n",
       "      <td>&lt;p&gt;How do you express an integer as a binary n...</td>\n",
       "    </tr>\n",
       "    <tr>\n",
       "      <td>10</td>\n",
       "      <td>1734</td>\n",
       "      <td>59.0</td>\n",
       "      <td>2008-08-05T00:12:55Z</td>\n",
       "      <td>20</td>\n",
       "      <td>Any experiences with Protocol Buffers?</td>\n",
       "      <td>&lt;p&gt;I was just looking through some information...</td>\n",
       "    </tr>\n",
       "    <tr>\n",
       "      <td>11</td>\n",
       "      <td>1829</td>\n",
       "      <td>30.0</td>\n",
       "      <td>2008-08-05T02:39:23Z</td>\n",
       "      <td>12</td>\n",
       "      <td>How do I make a menu that does not require the...</td>\n",
       "      <td>&lt;p&gt;I've got a menu in Python. That part was ea...</td>\n",
       "    </tr>\n",
       "    <tr>\n",
       "      <td>12</td>\n",
       "      <td>1854</td>\n",
       "      <td>116.0</td>\n",
       "      <td>2008-08-05T03:23:18Z</td>\n",
       "      <td>270</td>\n",
       "      <td>How to check what OS am I running on in Python?</td>\n",
       "      <td>&lt;p&gt;What do I need to look at to see if I'm on ...</td>\n",
       "    </tr>\n",
       "    <tr>\n",
       "      <td>13</td>\n",
       "      <td>1983</td>\n",
       "      <td>116.0</td>\n",
       "      <td>2008-08-05T07:18:55Z</td>\n",
       "      <td>31</td>\n",
       "      <td>Python: what is the difference between (1,2,3)...</td>\n",
       "      <td>&lt;p&gt;In many places, &lt;code&gt;(1,2,3)&lt;/code&gt; and &lt;c...</td>\n",
       "    </tr>\n",
       "    <tr>\n",
       "      <td>14</td>\n",
       "      <td>2311</td>\n",
       "      <td>394.0</td>\n",
       "      <td>2008-08-05T13:40:47Z</td>\n",
       "      <td>26</td>\n",
       "      <td>File size differences after copying a file to ...</td>\n",
       "      <td>&lt;p&gt;I have created a PHP-script to update a web...</td>\n",
       "    </tr>\n",
       "  </tbody>\n",
       "</table>\n",
       "</div>"
      ],
      "text/plain": [
       "      Id  OwnerUserId          CreationDate  Score  \\\n",
       "0    469        147.0  2008-08-02T15:11:16Z     21   \n",
       "1    502        147.0  2008-08-02T17:01:58Z     27   \n",
       "2    535        154.0  2008-08-02T18:43:54Z     40   \n",
       "3    594        116.0  2008-08-03T01:15:08Z     25   \n",
       "4    683        199.0  2008-08-03T13:19:16Z     28   \n",
       "5    742        189.0  2008-08-03T15:55:28Z     30   \n",
       "6    766    1384652.0  2008-08-03T17:44:07Z     20   \n",
       "7    773        207.0  2008-08-03T18:27:09Z    256   \n",
       "8    972        145.0  2008-08-04T02:17:51Z    364   \n",
       "9   1476         92.0  2008-08-04T18:20:36Z    251   \n",
       "10  1734         59.0  2008-08-05T00:12:55Z     20   \n",
       "11  1829         30.0  2008-08-05T02:39:23Z     12   \n",
       "12  1854        116.0  2008-08-05T03:23:18Z    270   \n",
       "13  1983        116.0  2008-08-05T07:18:55Z     31   \n",
       "14  2311        394.0  2008-08-05T13:40:47Z     26   \n",
       "\n",
       "                                                Title  \\\n",
       "0   How can I find the full path to a font from it...   \n",
       "1             Get a preview JPEG of a PDF on Windows?   \n",
       "2   Continuous Integration System for a Python Cod...   \n",
       "3      cx_Oracle: How do I iterate over a result set?   \n",
       "4   Using 'in' to match an attribute of Python obj...   \n",
       "5                               Class views in Django   \n",
       "6                                    Python and MySQL   \n",
       "7          How do I use Python's itertools.groupby()?   \n",
       "8      Adding a Method to an Existing Object Instance   \n",
       "9       How do you express binary literals in Python?   \n",
       "10             Any experiences with Protocol Buffers?   \n",
       "11  How do I make a menu that does not require the...   \n",
       "12    How to check what OS am I running on in Python?   \n",
       "13  Python: what is the difference between (1,2,3)...   \n",
       "14  File size differences after copying a file to ...   \n",
       "\n",
       "                                                 Body  \n",
       "0   <p>I am using the Photoshop's javascript API t...  \n",
       "1   <p>I have a cross-platform (Python) applicatio...  \n",
       "2   <p>I'm starting work on a hobby project with a...  \n",
       "3   <p>There are several ways to iterate over a re...  \n",
       "4   <p>I don't remember whether I was dreaming or ...  \n",
       "5   <p><a href=\"http://www.djangoproject.com/\">Dja...  \n",
       "6   <p>I can get Python to work with Postgresql bu...  \n",
       "7   <p>I haven't been able to find an understandab...  \n",
       "8   <p>I've read that it is possible to add a meth...  \n",
       "9   <p>How do you express an integer as a binary n...  \n",
       "10  <p>I was just looking through some information...  \n",
       "11  <p>I've got a menu in Python. That part was ea...  \n",
       "12  <p>What do I need to look at to see if I'm on ...  \n",
       "13  <p>In many places, <code>(1,2,3)</code> and <c...  \n",
       "14  <p>I have created a PHP-script to update a web...  "
      ]
     },
     "execution_count": 3,
     "metadata": {},
     "output_type": "execute_result"
    }
   ],
   "source": [
    "questions_df.head(15)\n",
    "#questions_df.describe()"
   ]
  },
  {
   "cell_type": "code",
   "execution_count": 4,
   "metadata": {},
   "outputs": [
    {
     "data": {
      "text/html": [
       "<div>\n",
       "<style scoped>\n",
       "    .dataframe tbody tr th:only-of-type {\n",
       "        vertical-align: middle;\n",
       "    }\n",
       "\n",
       "    .dataframe tbody tr th {\n",
       "        vertical-align: top;\n",
       "    }\n",
       "\n",
       "    .dataframe thead th {\n",
       "        text-align: right;\n",
       "    }\n",
       "</style>\n",
       "<table border=\"1\" class=\"dataframe\">\n",
       "  <thead>\n",
       "    <tr style=\"text-align: right;\">\n",
       "      <th></th>\n",
       "      <th>Id</th>\n",
       "      <th>OwnerUserId</th>\n",
       "      <th>CreationDate</th>\n",
       "      <th>ParentId</th>\n",
       "      <th>Score</th>\n",
       "      <th>Body</th>\n",
       "    </tr>\n",
       "  </thead>\n",
       "  <tbody>\n",
       "    <tr>\n",
       "      <td>0</td>\n",
       "      <td>497</td>\n",
       "      <td>50.0</td>\n",
       "      <td>2008-08-02T16:56:53Z</td>\n",
       "      <td>469</td>\n",
       "      <td>4</td>\n",
       "      <td>&lt;p&gt;open up a terminal (Applications-&amp;gt;Utilit...</td>\n",
       "    </tr>\n",
       "    <tr>\n",
       "      <td>1</td>\n",
       "      <td>518</td>\n",
       "      <td>153.0</td>\n",
       "      <td>2008-08-02T17:42:28Z</td>\n",
       "      <td>469</td>\n",
       "      <td>2</td>\n",
       "      <td>&lt;p&gt;I haven't been able to find anything that d...</td>\n",
       "    </tr>\n",
       "    <tr>\n",
       "      <td>2</td>\n",
       "      <td>536</td>\n",
       "      <td>161.0</td>\n",
       "      <td>2008-08-02T18:49:07Z</td>\n",
       "      <td>502</td>\n",
       "      <td>9</td>\n",
       "      <td>&lt;p&gt;You can use ImageMagick's convert utility f...</td>\n",
       "    </tr>\n",
       "    <tr>\n",
       "      <td>3</td>\n",
       "      <td>538</td>\n",
       "      <td>156.0</td>\n",
       "      <td>2008-08-02T18:56:56Z</td>\n",
       "      <td>535</td>\n",
       "      <td>23</td>\n",
       "      <td>&lt;p&gt;One possibility is Hudson.  It's written in...</td>\n",
       "    </tr>\n",
       "    <tr>\n",
       "      <td>4</td>\n",
       "      <td>541</td>\n",
       "      <td>157.0</td>\n",
       "      <td>2008-08-02T19:06:40Z</td>\n",
       "      <td>535</td>\n",
       "      <td>20</td>\n",
       "      <td>&lt;p&gt;We run &lt;a href=\"http://buildbot.net/trac\"&gt;B...</td>\n",
       "    </tr>\n",
       "    <tr>\n",
       "      <td>5</td>\n",
       "      <td>595</td>\n",
       "      <td>116.0</td>\n",
       "      <td>2008-08-03T01:17:36Z</td>\n",
       "      <td>594</td>\n",
       "      <td>25</td>\n",
       "      <td>&lt;p&gt;The canonical way is to use the built-in cu...</td>\n",
       "    </tr>\n",
       "    <tr>\n",
       "      <td>6</td>\n",
       "      <td>660</td>\n",
       "      <td>197.0</td>\n",
       "      <td>2008-08-03T12:09:18Z</td>\n",
       "      <td>535</td>\n",
       "      <td>14</td>\n",
       "      <td>&lt;p&gt;Second the Buildbot - Trac integration. You...</td>\n",
       "    </tr>\n",
       "    <tr>\n",
       "      <td>7</td>\n",
       "      <td>701</td>\n",
       "      <td>111.0</td>\n",
       "      <td>2008-08-03T14:30:50Z</td>\n",
       "      <td>683</td>\n",
       "      <td>3</td>\n",
       "      <td>&lt;p&gt;No, you were not dreaming.  Python has a pr...</td>\n",
       "    </tr>\n",
       "    <tr>\n",
       "      <td>8</td>\n",
       "      <td>735</td>\n",
       "      <td>145.0</td>\n",
       "      <td>2008-08-03T15:47:22Z</td>\n",
       "      <td>683</td>\n",
       "      <td>-2</td>\n",
       "      <td>&lt;p&gt;I think:&lt;/p&gt;\\n\\n&lt;pre&gt;&lt;code&gt;#!/bin/python&lt;br...</td>\n",
       "    </tr>\n",
       "    <tr>\n",
       "      <td>9</td>\n",
       "      <td>745</td>\n",
       "      <td>154.0</td>\n",
       "      <td>2008-08-03T15:59:19Z</td>\n",
       "      <td>683</td>\n",
       "      <td>8</td>\n",
       "      <td>&lt;p&gt;Are you looking to get a list of objects th...</td>\n",
       "    </tr>\n",
       "    <tr>\n",
       "      <td>10</td>\n",
       "      <td>750</td>\n",
       "      <td>199.0</td>\n",
       "      <td>2008-08-03T16:13:29Z</td>\n",
       "      <td>683</td>\n",
       "      <td>2</td>\n",
       "      <td>&lt;p&gt;What I was thinking of can be achieved usin...</td>\n",
       "    </tr>\n",
       "    <tr>\n",
       "      <td>11</td>\n",
       "      <td>764</td>\n",
       "      <td>NaN</td>\n",
       "      <td>2008-08-03T17:40:25Z</td>\n",
       "      <td>742</td>\n",
       "      <td>0</td>\n",
       "      <td>&lt;p&gt;Sounds to me like you're trying to combine ...</td>\n",
       "    </tr>\n",
       "    <tr>\n",
       "      <td>12</td>\n",
       "      <td>777</td>\n",
       "      <td>150.0</td>\n",
       "      <td>2008-08-03T18:32:27Z</td>\n",
       "      <td>766</td>\n",
       "      <td>5</td>\n",
       "      <td>&lt;p&gt;I don't have any experience with &lt;a href=\"h...</td>\n",
       "    </tr>\n",
       "    <tr>\n",
       "      <td>13</td>\n",
       "      <td>783</td>\n",
       "      <td>189.0</td>\n",
       "      <td>2008-08-03T18:40:09Z</td>\n",
       "      <td>773</td>\n",
       "      <td>52</td>\n",
       "      <td>&lt;p&gt;Can you show us your code?&lt;/p&gt;\\n\\n&lt;p&gt;The ex...</td>\n",
       "    </tr>\n",
       "    <tr>\n",
       "      <td>14</td>\n",
       "      <td>802</td>\n",
       "      <td>1384652.0</td>\n",
       "      <td>2008-08-03T20:07:05Z</td>\n",
       "      <td>766</td>\n",
       "      <td>4</td>\n",
       "      <td>&lt;p&gt;I uploaded it and got an internal error&lt;/p&gt;...</td>\n",
       "    </tr>\n",
       "  </tbody>\n",
       "</table>\n",
       "</div>"
      ],
      "text/plain": [
       "     Id  OwnerUserId          CreationDate  ParentId  Score  \\\n",
       "0   497         50.0  2008-08-02T16:56:53Z       469      4   \n",
       "1   518        153.0  2008-08-02T17:42:28Z       469      2   \n",
       "2   536        161.0  2008-08-02T18:49:07Z       502      9   \n",
       "3   538        156.0  2008-08-02T18:56:56Z       535     23   \n",
       "4   541        157.0  2008-08-02T19:06:40Z       535     20   \n",
       "5   595        116.0  2008-08-03T01:17:36Z       594     25   \n",
       "6   660        197.0  2008-08-03T12:09:18Z       535     14   \n",
       "7   701        111.0  2008-08-03T14:30:50Z       683      3   \n",
       "8   735        145.0  2008-08-03T15:47:22Z       683     -2   \n",
       "9   745        154.0  2008-08-03T15:59:19Z       683      8   \n",
       "10  750        199.0  2008-08-03T16:13:29Z       683      2   \n",
       "11  764          NaN  2008-08-03T17:40:25Z       742      0   \n",
       "12  777        150.0  2008-08-03T18:32:27Z       766      5   \n",
       "13  783        189.0  2008-08-03T18:40:09Z       773     52   \n",
       "14  802    1384652.0  2008-08-03T20:07:05Z       766      4   \n",
       "\n",
       "                                                 Body  \n",
       "0   <p>open up a terminal (Applications-&gt;Utilit...  \n",
       "1   <p>I haven't been able to find anything that d...  \n",
       "2   <p>You can use ImageMagick's convert utility f...  \n",
       "3   <p>One possibility is Hudson.  It's written in...  \n",
       "4   <p>We run <a href=\"http://buildbot.net/trac\">B...  \n",
       "5   <p>The canonical way is to use the built-in cu...  \n",
       "6   <p>Second the Buildbot - Trac integration. You...  \n",
       "7   <p>No, you were not dreaming.  Python has a pr...  \n",
       "8   <p>I think:</p>\\n\\n<pre><code>#!/bin/python<br...  \n",
       "9   <p>Are you looking to get a list of objects th...  \n",
       "10  <p>What I was thinking of can be achieved usin...  \n",
       "11  <p>Sounds to me like you're trying to combine ...  \n",
       "12  <p>I don't have any experience with <a href=\"h...  \n",
       "13  <p>Can you show us your code?</p>\\n\\n<p>The ex...  \n",
       "14  <p>I uploaded it and got an internal error</p>...  "
      ]
     },
     "execution_count": 4,
     "metadata": {},
     "output_type": "execute_result"
    }
   ],
   "source": [
    "answers_df.head(15)"
   ]
  },
  {
   "cell_type": "code",
   "execution_count": 5,
   "metadata": {},
   "outputs": [
    {
     "data": {
      "text/html": [
       "<div>\n",
       "<style scoped>\n",
       "    .dataframe tbody tr th:only-of-type {\n",
       "        vertical-align: middle;\n",
       "    }\n",
       "\n",
       "    .dataframe tbody tr th {\n",
       "        vertical-align: top;\n",
       "    }\n",
       "\n",
       "    .dataframe thead th {\n",
       "        text-align: right;\n",
       "    }\n",
       "</style>\n",
       "<table border=\"1\" class=\"dataframe\">\n",
       "  <thead>\n",
       "    <tr style=\"text-align: right;\">\n",
       "      <th></th>\n",
       "      <th>Id</th>\n",
       "      <th>Tag</th>\n",
       "    </tr>\n",
       "  </thead>\n",
       "  <tbody>\n",
       "    <tr>\n",
       "      <td>0</td>\n",
       "      <td>469</td>\n",
       "      <td>python</td>\n",
       "    </tr>\n",
       "    <tr>\n",
       "      <td>1</td>\n",
       "      <td>469</td>\n",
       "      <td>osx</td>\n",
       "    </tr>\n",
       "    <tr>\n",
       "      <td>2</td>\n",
       "      <td>469</td>\n",
       "      <td>fonts</td>\n",
       "    </tr>\n",
       "    <tr>\n",
       "      <td>3</td>\n",
       "      <td>469</td>\n",
       "      <td>photoshop</td>\n",
       "    </tr>\n",
       "    <tr>\n",
       "      <td>4</td>\n",
       "      <td>502</td>\n",
       "      <td>python</td>\n",
       "    </tr>\n",
       "    <tr>\n",
       "      <td>5</td>\n",
       "      <td>502</td>\n",
       "      <td>windows</td>\n",
       "    </tr>\n",
       "    <tr>\n",
       "      <td>6</td>\n",
       "      <td>502</td>\n",
       "      <td>image</td>\n",
       "    </tr>\n",
       "    <tr>\n",
       "      <td>7</td>\n",
       "      <td>502</td>\n",
       "      <td>pdf</td>\n",
       "    </tr>\n",
       "    <tr>\n",
       "      <td>8</td>\n",
       "      <td>535</td>\n",
       "      <td>python</td>\n",
       "    </tr>\n",
       "    <tr>\n",
       "      <td>9</td>\n",
       "      <td>535</td>\n",
       "      <td>continuous-integration</td>\n",
       "    </tr>\n",
       "    <tr>\n",
       "      <td>10</td>\n",
       "      <td>535</td>\n",
       "      <td>extreme-programming</td>\n",
       "    </tr>\n",
       "    <tr>\n",
       "      <td>11</td>\n",
       "      <td>594</td>\n",
       "      <td>python</td>\n",
       "    </tr>\n",
       "    <tr>\n",
       "      <td>12</td>\n",
       "      <td>594</td>\n",
       "      <td>sql</td>\n",
       "    </tr>\n",
       "    <tr>\n",
       "      <td>13</td>\n",
       "      <td>594</td>\n",
       "      <td>database</td>\n",
       "    </tr>\n",
       "    <tr>\n",
       "      <td>14</td>\n",
       "      <td>594</td>\n",
       "      <td>oracle</td>\n",
       "    </tr>\n",
       "  </tbody>\n",
       "</table>\n",
       "</div>"
      ],
      "text/plain": [
       "     Id                     Tag\n",
       "0   469                  python\n",
       "1   469                     osx\n",
       "2   469                   fonts\n",
       "3   469               photoshop\n",
       "4   502                  python\n",
       "5   502                 windows\n",
       "6   502                   image\n",
       "7   502                     pdf\n",
       "8   535                  python\n",
       "9   535  continuous-integration\n",
       "10  535     extreme-programming\n",
       "11  594                  python\n",
       "12  594                     sql\n",
       "13  594                database\n",
       "14  594                  oracle"
      ]
     },
     "execution_count": 5,
     "metadata": {},
     "output_type": "execute_result"
    }
   ],
   "source": [
    "tags_df.dropna(inplace=True)\n",
    "tags_df.head(15)\n",
    "#tags_df.nunique()\n",
    "#tags_df.count()"
   ]
  },
  {
   "cell_type": "code",
   "execution_count": 6,
   "metadata": {},
   "outputs": [
    {
     "name": "stdout",
     "output_type": "stream",
     "text": [
      "Questions:\t 607282\n",
      "Answers:\t 987122\n",
      "Tags:\t\t 1884635\n",
      "\n",
      "These must be the same size!\n"
     ]
    }
   ],
   "source": [
    "print(\"Questions:\\t\", len(questions_df))\n",
    "print(\"Answers:\\t\", len(answers_df))\n",
    "print(\"Tags:\\t\\t\", len(tags_df))\n",
    "print(\"\\nThese must be the same size!\")"
   ]
  },
  {
   "cell_type": "markdown",
   "metadata": {},
   "source": [
    "---\n",
    "## Assumptions and decisions\n",
    "* Drop questions without answers\n",
    "* Only keep the top answer (the one with the most votes)\n",
    "* As all questions are related to python, `python` is not a relevant tag\n",
    "    * Drop all tags with `Tag='python'`\n",
    "    * Only keep the first tag per `Id` for easier classification\n",
    "* **The question, answer, and tag lists must have the same size**\n",
    "    * All questions must have an answer and a tag\n",
    "    * One answer per question\n",
    "    * One tag per question"
   ]
  },
  {
   "cell_type": "code",
   "execution_count": 7,
   "metadata": {},
   "outputs": [],
   "source": [
    "n_tags = 20"
   ]
  },
  {
   "cell_type": "code",
   "execution_count": 8,
   "metadata": {},
   "outputs": [
    {
     "name": "stdout",
     "output_type": "stream",
     "text": [
      "Questions with answers: 539238\n"
     ]
    }
   ],
   "source": [
    "# Drop questions without answers\n",
    "questions_with_answer = questions_df[questions_df['Id'].isin(answers_df['ParentId'])]\n",
    "print(\"Questions with answers:\", len(questions_with_answer))"
   ]
  },
  {
   "cell_type": "code",
   "execution_count": 9,
   "metadata": {},
   "outputs": [],
   "source": [
    "# Drop all python tags\n",
    "no_python_tags = tags_df[tags_df['Tag'] != 'python']\n",
    "\n",
    "# Keep the top 20 tags\n",
    "top_tags = no_python_tags.groupby('Tag')['Id'].nunique().sort_values(ascending=False).head(n_tags)\n",
    "top_tags = top_tags.reset_index()\n",
    "top_tags.rename(columns={\"Id\": \"Count\"}, inplace=True)\n",
    "top_tags\n",
    "\n",
    "# Create a df for tags that will be used when merging to question\n",
    "no_dup_tags = no_python_tags.drop_duplicates(subset='Id')"
   ]
  },
  {
   "cell_type": "code",
   "execution_count": 10,
   "metadata": {},
   "outputs": [
    {
     "name": "stdout",
     "output_type": "stream",
     "text": [
      "Top answers:  539238\n"
     ]
    }
   ],
   "source": [
    "# Drop answers that no longer have questions\n",
    "answers_with_questions = answers_df[answers_df['ParentId'].isin(questions_with_answer['Id'])]\n",
    "\n",
    "# Keep the answer with the highest score, sort them by question ID\n",
    "grouped_answers = answers_with_questions.sort_values(['Score'], ascending=False).groupby('ParentId').head(1)\n",
    "sorted_answers = grouped_answers.sort_values(['ParentId'])\n",
    "print(\"Top answers: \", len(sorted_answers))"
   ]
  },
  {
   "cell_type": "code",
   "execution_count": 11,
   "metadata": {},
   "outputs": [],
   "source": [
    "def clean_html(raw_html):\n",
    "    cleanr = re.compile(\"<.*?>\")\n",
    "    clean_text = re.sub(cleanr, \"\", raw_html)\n",
    "    return clean_text"
   ]
  },
  {
   "cell_type": "code",
   "execution_count": 17,
   "metadata": {},
   "outputs": [
    {
     "data": {
      "text/html": [
       "<div>\n",
       "<style scoped>\n",
       "    .dataframe tbody tr th:only-of-type {\n",
       "        vertical-align: middle;\n",
       "    }\n",
       "\n",
       "    .dataframe tbody tr th {\n",
       "        vertical-align: top;\n",
       "    }\n",
       "\n",
       "    .dataframe thead th {\n",
       "        text-align: right;\n",
       "    }\n",
       "</style>\n",
       "<table border=\"1\" class=\"dataframe\">\n",
       "  <thead>\n",
       "    <tr style=\"text-align: right;\">\n",
       "      <th></th>\n",
       "      <th>id</th>\n",
       "      <th>title</th>\n",
       "      <th>body</th>\n",
       "      <th>tag</th>\n",
       "      <th>answer</th>\n",
       "    </tr>\n",
       "  </thead>\n",
       "  <tbody>\n",
       "    <tr>\n",
       "      <td>0</td>\n",
       "      <td>469</td>\n",
       "      <td>How can I find the full path to a font from it...</td>\n",
       "      <td>I am using the Photoshop's javascript API to f...</td>\n",
       "      <td>osx</td>\n",
       "      <td>Unfortunately the only API that isn't deprecat...</td>\n",
       "    </tr>\n",
       "    <tr>\n",
       "      <td>1</td>\n",
       "      <td>502</td>\n",
       "      <td>Get a preview JPEG of a PDF on Windows?</td>\n",
       "      <td>I have a cross-platform (Python) application w...</td>\n",
       "      <td>windows</td>\n",
       "      <td>ImageMagick delegates the PDF-&gt;bitmap conversi...</td>\n",
       "    </tr>\n",
       "    <tr>\n",
       "      <td>2</td>\n",
       "      <td>535</td>\n",
       "      <td>Continuous Integration System for a Python Cod...</td>\n",
       "      <td>I'm starting work on a hobby project with a py...</td>\n",
       "      <td>continuous-integration</td>\n",
       "      <td>One possibility is Hudson.  It's written in Ja...</td>\n",
       "    </tr>\n",
       "    <tr>\n",
       "      <td>3</td>\n",
       "      <td>594</td>\n",
       "      <td>cx_Oracle: How do I iterate over a result set?</td>\n",
       "      <td>There are several ways to iterate over a resul...</td>\n",
       "      <td>sql</td>\n",
       "      <td>The canonical way is to use the built-in curso...</td>\n",
       "    </tr>\n",
       "    <tr>\n",
       "      <td>4</td>\n",
       "      <td>683</td>\n",
       "      <td>Using 'in' to match an attribute of Python obj...</td>\n",
       "      <td>I don't remember whether I was dreaming or not...</td>\n",
       "      <td>arrays</td>\n",
       "      <td>Using a list comprehension would build a tempo...</td>\n",
       "    </tr>\n",
       "    <tr>\n",
       "      <td>5</td>\n",
       "      <td>742</td>\n",
       "      <td>Class views in Django</td>\n",
       "      <td>Django view points to a function, which can be...</td>\n",
       "      <td>django</td>\n",
       "      <td>I've created and used my own generic view clas...</td>\n",
       "    </tr>\n",
       "    <tr>\n",
       "      <td>6</td>\n",
       "      <td>766</td>\n",
       "      <td>Python and MySQL</td>\n",
       "      <td>I can get Python to work with Postgresql but I...</td>\n",
       "      <td>mysql</td>\n",
       "      <td>MySQLdb is what I have used before.\\n\\nIf you ...</td>\n",
       "    </tr>\n",
       "    <tr>\n",
       "      <td>7</td>\n",
       "      <td>773</td>\n",
       "      <td>How do I use Python's itertools.groupby()?</td>\n",
       "      <td>I haven't been able to find an understandable ...</td>\n",
       "      <td>iteration</td>\n",
       "      <td>As Sebastjan said, you first have to sort your...</td>\n",
       "    </tr>\n",
       "    <tr>\n",
       "      <td>8</td>\n",
       "      <td>972</td>\n",
       "      <td>Adding a Method to an Existing Object Instance</td>\n",
       "      <td>I've read that it is possible to add a method ...</td>\n",
       "      <td>oop</td>\n",
       "      <td>In Python, there is a difference between funct...</td>\n",
       "    </tr>\n",
       "    <tr>\n",
       "      <td>9</td>\n",
       "      <td>1476</td>\n",
       "      <td>How do you express binary literals in Python?</td>\n",
       "      <td>How do you express an integer as a binary numb...</td>\n",
       "      <td>syntax</td>\n",
       "      <td>For reference&amp;mdash;future Python possibilitie...</td>\n",
       "    </tr>\n",
       "  </tbody>\n",
       "</table>\n",
       "</div>"
      ],
      "text/plain": [
       "     id                                              title  \\\n",
       "0   469  How can I find the full path to a font from it...   \n",
       "1   502            Get a preview JPEG of a PDF on Windows?   \n",
       "2   535  Continuous Integration System for a Python Cod...   \n",
       "3   594     cx_Oracle: How do I iterate over a result set?   \n",
       "4   683  Using 'in' to match an attribute of Python obj...   \n",
       "5   742                              Class views in Django   \n",
       "6   766                                   Python and MySQL   \n",
       "7   773         How do I use Python's itertools.groupby()?   \n",
       "8   972     Adding a Method to an Existing Object Instance   \n",
       "9  1476      How do you express binary literals in Python?   \n",
       "\n",
       "                                                body                     tag  \\\n",
       "0  I am using the Photoshop's javascript API to f...                     osx   \n",
       "1  I have a cross-platform (Python) application w...                 windows   \n",
       "2  I'm starting work on a hobby project with a py...  continuous-integration   \n",
       "3  There are several ways to iterate over a resul...                     sql   \n",
       "4  I don't remember whether I was dreaming or not...                  arrays   \n",
       "5  Django view points to a function, which can be...                  django   \n",
       "6  I can get Python to work with Postgresql but I...                   mysql   \n",
       "7  I haven't been able to find an understandable ...               iteration   \n",
       "8  I've read that it is possible to add a method ...                     oop   \n",
       "9  How do you express an integer as a binary numb...                  syntax   \n",
       "\n",
       "                                              answer  \n",
       "0  Unfortunately the only API that isn't deprecat...  \n",
       "1  ImageMagick delegates the PDF->bitmap conversi...  \n",
       "2  One possibility is Hudson.  It's written in Ja...  \n",
       "3  The canonical way is to use the built-in curso...  \n",
       "4  Using a list comprehension would build a tempo...  \n",
       "5  I've created and used my own generic view clas...  \n",
       "6  MySQLdb is what I have used before.\\n\\nIf you ...  \n",
       "7  As Sebastjan said, you first have to sort your...  \n",
       "8  In Python, there is a difference between funct...  \n",
       "9  For reference&mdash;future Python possibilitie...  "
      ]
     },
     "execution_count": 17,
     "metadata": {},
     "output_type": "execute_result"
    }
   ],
   "source": [
    "full_questions = pd.merge(questions_with_answer, no_dup_tags, on='Id')\n",
    "full_questions = pd.merge(full_questions, sorted_answers, left_on='Id', right_on='ParentId')\n",
    "full_questions.rename(columns={\"Id_x\": \"id\", \"Title\": \"title\", \"Body_x\": \"body\", \"Tag\": \"tag\", \"Body_y\": \"answer\"}, inplace=True)\n",
    "full_questions.drop(columns=[\"OwnerUserId_x\", \"CreationDate_x\", \"Score_x\", \"Id_y\", \"OwnerUserId_y\", \"CreationDate_y\", \"ParentId\", \"Score_y\"], inplace=True)\n",
    "full_questions['body'] = full_questions['body'].map(lambda question: clean_html(question))\n",
    "full_questions['answer'] = full_questions['answer'].map(lambda answer: clean_html(answer))\n",
    "full_questions.head(10)"
   ]
  },
  {
   "cell_type": "markdown",
   "metadata": {},
   "source": [
    "* To prevent bias, select a random sample of 500 questions from each tag"
   ]
  },
  {
   "cell_type": "code",
   "execution_count": 18,
   "metadata": {},
   "outputs": [
    {
     "name": "stdout",
     "output_type": "stream",
     "text": [
      "0 django 48128\n",
      "1 python-2.7 21239\n",
      "2 pandas 15826\n",
      "3 python-3.x 14810\n",
      "4 numpy 13281\n",
      "5 list 15310\n",
      "6 matplotlib 8781\n",
      "7 regex 13011\n",
      "8 dictionary 5836\n",
      "9 tkinter 4249\n",
      "10 string 8552\n",
      "11 flask 3946\n",
      "12 google-app-engine 7134\n",
      "13 csv 5427\n",
      "14 arrays 8264\n",
      "15 json 5892\n",
      "16 mysql 6239\n",
      "17 linux 5403\n",
      "18 html 5435\n",
      "19 scipy 1471\n"
     ]
    }
   ],
   "source": [
    "question_samples = pd.DataFrame(columns=full_questions.columns)\n",
    "tags = []\n",
    "\n",
    "for i, tag_item in enumerate(top_tags.values):\n",
    "    tag = tag_item[0]\n",
    "    q_count = full_questions[full_questions['tag'] == tag]['tag'].count()\n",
    "    print(i, tag, q_count)\n",
    "    if q_count < 500:\n",
    "        continue\n",
    "    sample = full_questions[full_questions['tag'] == tag].sample(500)\n",
    "    tags.append(tag)\n",
    "    question_samples = question_samples.append(sample)"
   ]
  },
  {
   "cell_type": "code",
   "execution_count": 19,
   "metadata": {},
   "outputs": [
    {
     "name": "stdout",
     "output_type": "stream",
     "text": [
      "['django', 'python-2.7', 'pandas', 'python-3.x', 'numpy', 'list', 'matplotlib', 'regex', 'dictionary', 'tkinter', 'string', 'flask', 'google-app-engine', 'csv', 'arrays', 'json', 'mysql', 'linux', 'html', 'scipy']\n",
      "10000 questions in distributed set\n"
     ]
    }
   ],
   "source": [
    "print(tags)\n",
    "print(len(question_samples), \"questions in distributed set\")"
   ]
  },
  {
   "cell_type": "code",
   "execution_count": 20,
   "metadata": {},
   "outputs": [
    {
     "data": {
      "text/html": [
       "<div>\n",
       "<style scoped>\n",
       "    .dataframe tbody tr th:only-of-type {\n",
       "        vertical-align: middle;\n",
       "    }\n",
       "\n",
       "    .dataframe tbody tr th {\n",
       "        vertical-align: top;\n",
       "    }\n",
       "\n",
       "    .dataframe thead th {\n",
       "        text-align: right;\n",
       "    }\n",
       "</style>\n",
       "<table border=\"1\" class=\"dataframe\">\n",
       "  <thead>\n",
       "    <tr style=\"text-align: right;\">\n",
       "      <th></th>\n",
       "      <th>id</th>\n",
       "      <th>title</th>\n",
       "      <th>body</th>\n",
       "      <th>tag</th>\n",
       "      <th>answer</th>\n",
       "    </tr>\n",
       "  </thead>\n",
       "  <tbody>\n",
       "    <tr>\n",
       "      <td>0</td>\n",
       "      <td>29241056</td>\n",
       "      <td>The use of Python numpy.newaxis</td>\n",
       "      <td>So when I try\\n\\nnumpy.newaxis\\n\\n\\nThe result...</td>\n",
       "      <td>numpy</td>\n",
       "      <td>You started with a one-dimensional list of num...</td>\n",
       "    </tr>\n",
       "    <tr>\n",
       "      <td>1</td>\n",
       "      <td>30054692</td>\n",
       "      <td>How do I print a whole CSV file to a Text entr...</td>\n",
       "      <td>I would like to know what ways there are to wr...</td>\n",
       "      <td>csv</td>\n",
       "      <td>Just open the file, read it, and insert the da...</td>\n",
       "    </tr>\n",
       "    <tr>\n",
       "      <td>2</td>\n",
       "      <td>31429231</td>\n",
       "      <td>merge csv files in Python</td>\n",
       "      <td>for example:\\n\\ninput csv1:\\n\\nid,count\\n1A,9\\...</td>\n",
       "      <td>csv</td>\n",
       "      <td>Quite easy when using pandas. Also for more th...</td>\n",
       "    </tr>\n",
       "    <tr>\n",
       "      <td>3</td>\n",
       "      <td>21648310</td>\n",
       "      <td>Getting Exception when setting django with mys...</td>\n",
       "      <td>First of all I installed django on my Ubuntu m...</td>\n",
       "      <td>mysql</td>\n",
       "      <td>MySQLdb is just the module that connects to My...</td>\n",
       "    </tr>\n",
       "    <tr>\n",
       "      <td>4</td>\n",
       "      <td>29318914</td>\n",
       "      <td>Tkinter Error on keypress</td>\n",
       "      <td>Code:\\n\\nimport tkinter\\nwindow = tkinter.Tk()...</td>\n",
       "      <td>tkinter</td>\n",
       "      <td>The problem was that I was using 3.5 instead o...</td>\n",
       "    </tr>\n",
       "    <tr>\n",
       "      <td>5</td>\n",
       "      <td>13399222</td>\n",
       "      <td>how to exit from a pyplot loop?</td>\n",
       "      <td>I have a python program using pyplot (backend:...</td>\n",
       "      <td>matplotlib</td>\n",
       "      <td>You are not in the pyplot loop per-say, but th...</td>\n",
       "    </tr>\n",
       "    <tr>\n",
       "      <td>6</td>\n",
       "      <td>7272205</td>\n",
       "      <td>Cleaning memory after loading data from a JSON</td>\n",
       "      <td>I am loading a JSON file to parse it and conve...</td>\n",
       "      <td>json</td>\n",
       "      <td>In Python, variables are automatically freed w...</td>\n",
       "    </tr>\n",
       "    <tr>\n",
       "      <td>7</td>\n",
       "      <td>39887219</td>\n",
       "      <td>Round Robin Scheduling for a pandas dataframe</td>\n",
       "      <td>I have been working on a bit of code that read...</td>\n",
       "      <td>python-3.x</td>\n",
       "      <td>I revised your code a little bit and it works....</td>\n",
       "    </tr>\n",
       "    <tr>\n",
       "      <td>8</td>\n",
       "      <td>12303794</td>\n",
       "      <td>scipy.optimze curve_fit return wrong value</td>\n",
       "      <td>I was trying to fit a specific function with s...</td>\n",
       "      <td>scipy</td>\n",
       "      <td>Don't use x and X as variable names when they ...</td>\n",
       "    </tr>\n",
       "    <tr>\n",
       "      <td>9</td>\n",
       "      <td>13282298</td>\n",
       "      <td>Python function to build list from a text file</td>\n",
       "      <td>For my homework assignment I need to write the...</td>\n",
       "      <td>list</td>\n",
       "      <td>Try to check this:\\n\\ndef eventfreq(year, mont...</td>\n",
       "    </tr>\n",
       "  </tbody>\n",
       "</table>\n",
       "</div>"
      ],
      "text/plain": [
       "         id                                              title  \\\n",
       "0  29241056                    The use of Python numpy.newaxis   \n",
       "1  30054692  How do I print a whole CSV file to a Text entr...   \n",
       "2  31429231                          merge csv files in Python   \n",
       "3  21648310  Getting Exception when setting django with mys...   \n",
       "4  29318914                          Tkinter Error on keypress   \n",
       "5  13399222                    how to exit from a pyplot loop?   \n",
       "6   7272205     Cleaning memory after loading data from a JSON   \n",
       "7  39887219      Round Robin Scheduling for a pandas dataframe   \n",
       "8  12303794         scipy.optimze curve_fit return wrong value   \n",
       "9  13282298     Python function to build list from a text file   \n",
       "\n",
       "                                                body         tag  \\\n",
       "0  So when I try\\n\\nnumpy.newaxis\\n\\n\\nThe result...       numpy   \n",
       "1  I would like to know what ways there are to wr...         csv   \n",
       "2  for example:\\n\\ninput csv1:\\n\\nid,count\\n1A,9\\...         csv   \n",
       "3  First of all I installed django on my Ubuntu m...       mysql   \n",
       "4  Code:\\n\\nimport tkinter\\nwindow = tkinter.Tk()...     tkinter   \n",
       "5  I have a python program using pyplot (backend:...  matplotlib   \n",
       "6  I am loading a JSON file to parse it and conve...        json   \n",
       "7  I have been working on a bit of code that read...  python-3.x   \n",
       "8  I was trying to fit a specific function with s...       scipy   \n",
       "9  For my homework assignment I need to write the...        list   \n",
       "\n",
       "                                              answer  \n",
       "0  You started with a one-dimensional list of num...  \n",
       "1  Just open the file, read it, and insert the da...  \n",
       "2  Quite easy when using pandas. Also for more th...  \n",
       "3  MySQLdb is just the module that connects to My...  \n",
       "4  The problem was that I was using 3.5 instead o...  \n",
       "5  You are not in the pyplot loop per-say, but th...  \n",
       "6  In Python, variables are automatically freed w...  \n",
       "7  I revised your code a little bit and it works....  \n",
       "8  Don't use x and X as variable names when they ...  \n",
       "9  Try to check this:\\n\\ndef eventfreq(year, mont...  "
      ]
     },
     "execution_count": 20,
     "metadata": {},
     "output_type": "execute_result"
    }
   ],
   "source": [
    "df_questions = question_samples.sample(frac=1).reset_index(drop=True)\n",
    "num_questions = len(df_questions)\n",
    "df_questions.head(10)"
   ]
  },
  {
   "cell_type": "markdown",
   "metadata": {},
   "source": [
    "## Preprocessing text\n",
    "* There are 10000 entries in the distributed dataset\n",
    "    * There are 500 entries each for 20 different tags (this will prevent bias)\n",
    "* I will only use the title of the question, as I assume this is the most similar to what will be asked in a chatbot\n",
    "* The tag will be used as the label\n",
    "* Answers are given as response in the chatbot\n",
    "<!--- * **Testing with a dataset of 1000 entries first** -->"
   ]
  },
  {
   "cell_type": "code",
   "execution_count": null,
   "metadata": {},
   "outputs": [],
   "source": [
    "#train_size = 1000"
   ]
  },
  {
   "cell_type": "code",
   "execution_count": 21,
   "metadata": {},
   "outputs": [],
   "source": [
    "x_train_temp = df_questions['title'].to_numpy()\n",
    "y_train_temp = df_questions['tag'].to_numpy().tolist()\n",
    "answers = df_questions['answer'].to_numpy().tolist()"
   ]
  },
  {
   "cell_type": "code",
   "execution_count": 22,
   "metadata": {},
   "outputs": [
    {
     "name": "stdout",
     "output_type": "stream",
     "text": [
      "['The use of Python numpy.newaxis'\n",
      " 'How do I print a whole CSV file to a Text entry box in Tkinter?'\n",
      " 'merge csv files in Python'\n",
      " 'Getting Exception when setting django with mysql-server'\n",
      " 'Tkinter Error on keypress' 'how to exit from a pyplot loop?'\n",
      " 'Cleaning memory after loading data from a JSON'\n",
      " 'Round Robin Scheduling for a pandas dataframe'\n",
      " 'scipy.optimze curve_fit return wrong value'\n",
      " 'Python function to build list from a text file'\n",
      " 'Sum a column of values including letters in Python'\n",
      " 'How to use neo4jrestclient to make a node with properties from a python dictionary?'\n",
      " 'what is the fastest way to initialise a scipy.sparse matrix with numpy.NaN?'\n",
      " 'Convert redundant array to dict (or JSON)?'\n",
      " 'Extracting links from HTML in Python'\n",
      " 'Python \"Error \\'dict\\' object has no attribute \\'load\\'\"'\n",
      " 'Python and Interactive Zoom Plot with Matplotlib'\n",
      " 'Python (numpy): drop columns by index'\n",
      " 'Downloading Qiime to CentOS6.4. Having problems with python version'\n",
      " 'How do I raise a FileNotFoundError properly?']\n"
     ]
    }
   ],
   "source": [
    "print(x_train_temp[:20])"
   ]
  },
  {
   "cell_type": "code",
   "execution_count": 23,
   "metadata": {},
   "outputs": [
    {
     "name": "stdout",
     "output_type": "stream",
     "text": [
      "['numpy', 'csv', 'csv', 'mysql', 'tkinter', 'matplotlib', 'json', 'python-3.x', 'scipy', 'list', 'csv', 'dictionary', 'scipy', 'arrays', 'html', 'json', 'matplotlib', 'numpy', 'linux', 'python-3.x', 'matplotlib', 'pandas', 'python-3.x', 'arrays', 'numpy', 'html', 'flask', 'string', 'matplotlib', 'flask', 'dictionary', 'pandas', 'regex', 'django', 'python-2.7', 'matplotlib', 'python-2.7', 'numpy', 'scipy', 'list', 'scipy', 'google-app-engine', 'django', 'html', 'string', 'arrays', 'dictionary', 'html', 'mysql', 'list', 'list', 'html', 'tkinter', 'list', 'arrays', 'dictionary', 'pandas', 'linux', 'django', 'arrays', 'html', 'json', 'numpy', 'linux', 'html', 'flask', 'json', 'list', 'matplotlib', 'tkinter', 'string', 'django', 'numpy', 'flask', 'python-3.x', 'mysql', 'list', 'html', 'django', 'matplotlib', 'scipy', 'python-2.7', 'tkinter', 'string', 'mysql', 'scipy', 'pandas', 'linux', 'json', 'arrays', 'regex', 'csv', 'flask', 'dictionary', 'html', 'numpy', 'numpy', 'pandas', 'pandas', 'linux']\n"
     ]
    }
   ],
   "source": [
    "print(y_train_temp[:100])"
   ]
  },
  {
   "cell_type": "markdown",
   "metadata": {},
   "source": [
    "### Getting categories"
   ]
  },
  {
   "cell_type": "code",
   "execution_count": 24,
   "metadata": {},
   "outputs": [
    {
     "name": "stdout",
     "output_type": "stream",
     "text": [
      "20 categories\n",
      "['html', 'tkinter', 'matplotlib', 'csv', 'mysql', 'dictionary', 'arrays', 'pandas', 'google-app-engine', 'list', 'regex', 'json', 'numpy', 'flask', 'scipy', 'string', 'linux', 'python-3.x', 'django', 'python-2.7']\n"
     ]
    }
   ],
   "source": [
    "categories = list(set(y_train_temp))\n",
    "num_classes = len(categories)\n",
    "print(num_classes, \"categories\")\n",
    "print(categories)"
   ]
  },
  {
   "cell_type": "code",
   "execution_count": 25,
   "metadata": {},
   "outputs": [],
   "source": [
    "y_train = []\n",
    "\n",
    "for n in [categories.index(i) for i in y_train_temp]:\n",
    "    y_train.append([0 for i in range(num_classes)]) # Create an array of zeros (category set length)\n",
    "    y_train[-1][n] = 1 # Set the index to 1 for the label in mention"
   ]
  },
  {
   "cell_type": "code",
   "execution_count": 26,
   "metadata": {},
   "outputs": [
    {
     "name": "stdout",
     "output_type": "stream",
     "text": [
      "[1, 0, 0, 0, 0, 0, 0, 0, 0, 0, 0, 0, 0, 0, 0, 0, 0, 0, 0, 0]\n"
     ]
    }
   ],
   "source": [
    "print(y_train[-1])"
   ]
  },
  {
   "cell_type": "markdown",
   "metadata": {},
   "source": [
    "### Embedding and stemming"
   ]
  },
  {
   "cell_type": "code",
   "execution_count": 27,
   "metadata": {},
   "outputs": [],
   "source": [
    "all_words = \" \".join(x_train_temp).lower().split(\" \")\n",
    "unique_words = list(set(all_words))\n",
    "\n",
    "stemmer = PorterStemmer()\n",
    "# TODO: Actually do some stemming\n",
    "\n",
    "x_train = []\n",
    "x_array_size = 10"
   ]
  },
  {
   "cell_type": "markdown",
   "metadata": {},
   "source": [
    "**Make text into numbers:**\n",
    "* Takes each line and returns an array of ten numbers\n",
    "* If ten or more words, append the appropriate `unique_words` index\n",
    "* If less than ten words, simply add zeros so the array is always of length 10\n",
    "\n",
    "Example:  \n",
    "\"*Continuous Integration System for a Python Codebase*\" → `[1271, 24, 1360, 375, 588, 294, 1789, 0, 0, 0]`"
   ]
  },
  {
   "cell_type": "code",
   "execution_count": 28,
   "metadata": {},
   "outputs": [],
   "source": [
    "def make_text_into_numbers(text):\n",
    "    iwords = text.lower().split(\" \")\n",
    "    numbers = []\n",
    "    \n",
    "    for n in iwords:\n",
    "        try:\n",
    "            numbers.append(unique_words.index(n))\n",
    "        except ValueError:\n",
    "            numbers.append(0)\n",
    "    \n",
    "    zeros_array = np.zeros(x_array_size - 1).tolist()\n",
    "    numbers = numbers + zeros_array # add zeros in case of less than required array size\n",
    "    return numbers[:x_array_size]"
   ]
  },
  {
   "cell_type": "code",
   "execution_count": 29,
   "metadata": {},
   "outputs": [
    {
     "data": {
      "application/vnd.jupyter.widget-view+json": {
       "model_id": "3dc4d3ccfb2745cfbb40a4cc422ca7ac",
       "version_major": 2,
       "version_minor": 0
      },
      "text/plain": [
       "HBox(children=(FloatProgress(value=0.0, max=10000.0), HTML(value='')))"
      ]
     },
     "metadata": {},
     "output_type": "display_data"
    },
    {
     "name": "stdout",
     "output_type": "stream",
     "text": [
      "\n"
     ]
    }
   ],
   "source": [
    "for i in tqdm(x_train_temp):\n",
    "    t = make_text_into_numbers(i)\n",
    "    x_train.append(t)"
   ]
  },
  {
   "cell_type": "code",
   "execution_count": 30,
   "metadata": {},
   "outputs": [],
   "source": [
    "x_train = torch.LongTensor(x_train)\n",
    "y_train = torch.Tensor(y_train)"
   ]
  },
  {
   "cell_type": "markdown",
   "metadata": {},
   "source": [
    "---\n",
    "## Model"
   ]
  },
  {
   "cell_type": "code",
   "execution_count": 31,
   "metadata": {},
   "outputs": [],
   "source": [
    "class Net(nn.Module):\n",
    "    def __init__(self):\n",
    "        super(Net, self).__init__()\n",
    "        self.embedding = nn.Embedding(len(unique_words), 128)\n",
    "        \n",
    "        self.lstm = nn.LSTM(input_size = 128,\n",
    "                           hidden_size = 128,\n",
    "                           num_layers = 1,\n",
    "                           batch_first = True,\n",
    "                           bidirectional = False)\n",
    "        \n",
    "        self.fc1 = nn.Linear(128, 256)\n",
    "        self.fc2 = nn.Linear(256, num_classes)\n",
    "        \n",
    "    def forward(self, inp):\n",
    "        e = self.embedding(inp)\n",
    "        output, hidden = self.lstm(e)\n",
    "        \n",
    "        x = self.fc1(output[:, -1, :])\n",
    "        x = F.relu(x)\n",
    "        x = self.fc2(x)\n",
    "        x = torch.sigmoid(x)\n",
    "        return x"
   ]
  },
  {
   "cell_type": "code",
   "execution_count": 32,
   "metadata": {},
   "outputs": [
    {
     "name": "stdout",
     "output_type": "stream",
     "text": [
      "Model Net(\n",
      "  (embedding): Embedding(10421, 128)\n",
      "  (lstm): LSTM(128, 128, batch_first=True)\n",
      "  (fc1): Linear(in_features=128, out_features=256, bias=True)\n",
      "  (fc2): Linear(in_features=256, out_features=20, bias=True)\n",
      ")\n",
      "Parameters [1333888, 65536, 65536, 512, 512, 32768, 256, 5120, 20]\n"
     ]
    }
   ],
   "source": [
    "net = Net()\n",
    "print(\"Model\", net)\n",
    "print(\"Parameters\", [param.nelement() for param in net.parameters()])"
   ]
  },
  {
   "cell_type": "code",
   "execution_count": 33,
   "metadata": {},
   "outputs": [],
   "source": [
    "max_words = 10\n",
    "batch_size = 1\n",
    "epochs = 5\n",
    "learning_rate = 0.001"
   ]
  },
  {
   "cell_type": "code",
   "execution_count": 34,
   "metadata": {},
   "outputs": [],
   "source": [
    "criterion = nn.CrossEntropyLoss()\n",
    "optimizer = optim.SGD(net.parameters(), lr=learning_rate)\n",
    "# optimizer = optim.Adam(net.parameters(), lr=learning_rate)\n",
    "loss_fn = nn.MSELoss()"
   ]
  },
  {
   "cell_type": "code",
   "execution_count": 35,
   "metadata": {},
   "outputs": [],
   "source": [
    "t_loss = []\n",
    "v_loss = []\n",
    "\n",
    "t_acc = []\n",
    "v_acc = []"
   ]
  },
  {
   "cell_type": "markdown",
   "metadata": {},
   "source": [
    "## Train model"
   ]
  },
  {
   "cell_type": "code",
   "execution_count": 36,
   "metadata": {},
   "outputs": [
    {
     "data": {
      "application/vnd.jupyter.widget-view+json": {
       "model_id": "55750975a82f4b3caf3d2df72ef65e47",
       "version_major": 2,
       "version_minor": 0
      },
      "text/plain": [
       "HBox(children=(FloatProgress(value=0.0, max=1000.0), HTML(value='')))"
      ]
     },
     "metadata": {},
     "output_type": "display_data"
    },
    {
     "name": "stdout",
     "output_type": "stream",
     "text": [
      "0.24968804\n",
      "0.2489425\n",
      "0.24820013\n",
      "0.24746062\n",
      "0.24672364\n",
      "0.24598895\n",
      "0.24525622\n",
      "0.24452546\n",
      "0.24379599\n",
      "0.24306788\n",
      "\n"
     ]
    }
   ],
   "source": [
    "n_steps = 1000\n",
    "\n",
    "for i in trange(n_steps):\n",
    "    y_pred_train = net(x_train)\n",
    "    loss_train = loss_fn(y_pred_train, y_train)\n",
    "    \n",
    "    optimizer.zero_grad()\n",
    "    loss_train.backward()\n",
    "    optimizer.step()\n",
    "    \n",
    "    loss = loss_train.detach().numpy()\n",
    "    t_loss.append(loss)\n",
    "    \n",
    "    # Print loss each 100th round\n",
    "    if i%100 == 0:\n",
    "        print(loss)"
   ]
  },
  {
   "cell_type": "markdown",
   "metadata": {},
   "source": [
    "### Plot loss"
   ]
  },
  {
   "cell_type": "code",
   "execution_count": 37,
   "metadata": {},
   "outputs": [
    {
     "data": {
      "image/png": "[encoded data removed]",
      "text/plain": [
       "<Figure size 432x288 with 1 Axes>"
      ]
     },
     "metadata": {
      "needs_background": "light"
     },
     "output_type": "display_data"
    }
   ],
   "source": [
    "x_values = [i for i in range(n_steps)]\n",
    "\n",
    "plt.plot(x_values, t_loss)\n",
    "plt.xlabel(\"Epoch\")\n",
    "plt.ylabel(\"Loss\")\n",
    "plt.savefig(f\"loss_{n_steps}_epochs\")\n",
    "plt.show()"
   ]
  },
  {
   "cell_type": "markdown",
   "metadata": {},
   "source": [
    "## Test model"
   ]
  },
  {
   "cell_type": "code",
   "execution_count": 38,
   "metadata": {},
   "outputs": [],
   "source": [
    "def classify(user_input):\n",
    "    indices = make_text_into_numbers(user_input)\n",
    "    # print(f\"\\\"{user_input}\\\" => {indices}\")\n",
    "    question_tensor = torch.LongTensor([indices])\n",
    "    output = net(question_tensor).detach().numpy()\n",
    "    tag_index = np.argmax(output)\n",
    "    return tag_index, output"
   ]
  },
  {
   "cell_type": "code",
   "execution_count": 45,
   "metadata": {},
   "outputs": [],
   "source": [
    "def get_answer_from_tag(tag_index):\n",
    "    tag = categories[tag_index]\n",
    "    filtered_questions = df_questions[df_questions['tag'] == tag]\n",
    "    sample = filtered_questions.sample()['answer'].values[0]\n",
    "    return sample"
   ]
  },
  {
   "cell_type": "code",
   "execution_count": null,
   "metadata": {},
   "outputs": [
    {
     "name": "stdout",
     "output_type": "stream",
     "text": [
      "Chatbot: What can I help you with today?\n",
      "You: Access an element in a dictionary\n",
      "Chatbot: It sounds like you want to do something like:\n",
      "\n",
      "&gt;&gt;&gt; d = {1: 2, 2: 4, 3: 6, 4: 8, 5: 10}\n",
      "&gt;&gt;&gt; start = 1\n",
      "&gt;&gt;&gt; end = 3\n",
      "&gt;&gt;&gt; sum(d[i] for i in range(start, end + 1) if i in d)\n",
      "12\n",
      "\n",
      "\n",
      "This will sum the values from d for the keys 1-3 (inclusive).\n",
      "\n"
     ]
    }
   ],
   "source": [
    "print(\"Chatbot: What can I help you with today?\")\n",
    "outputs = []\n",
    "\n",
    "user_input = input(\"You: \")\n",
    "while user_input != \"Bye\":\n",
    "    tag_index, output = classify(user_input)\n",
    "    outputs.append(output[0])\n",
    "    answer = get_answer_from_tag(tag_index)\n",
    "    print(f\"Chatbot: {answer}\")\n",
    "    user_input = input(\"Question: \")\n",
    "\n",
    "print(\"Chatbot: Have a nice day! Beep boop\")"
   ]
  },
  {
   "cell_type": "markdown",
   "metadata": {},
   "source": [
    "### Evaluating outputs"
   ]
  },
  {
   "cell_type": "code",
   "execution_count": null,
   "metadata": {},
   "outputs": [],
   "source": [
    "print(outputs[0][0], outputs[1][0], outputs[2][0])"
   ]
  },
  {
   "cell_type": "code",
   "execution_count": null,
   "metadata": {},
   "outputs": [],
   "source": [
    "for i in range(len(categories)):\n",
    "    print(outputs[0][i], outputs[1][i], outputs[2][i], outputs[3][i])"
   ]
  },
  {
   "cell_type": "code",
   "execution_count": null,
   "metadata": {},
   "outputs": [],
   "source": [
    "df_outputs = pd.DataFrame(outputs, columns=categories, index=[\"text 1\", \"text 2\", \"text 3\", \"text 4\"])\n",
    "df_outputs = df_outputs.T\n",
    "df_outputs"
   ]
  },
  {
   "cell_type": "code",
   "execution_count": null,
   "metadata": {},
   "outputs": [],
   "source": []
  }
 ],
 "metadata": {
  "kernelspec": {
   "display_name": "Python 3",
   "language": "python",
   "name": "python3"
  },
  "language_info": {
   "codemirror_mode": {
    "name": "ipython",
    "version": 3
   },
   "file_extension": ".py",
   "mimetype": "text/x-python",
   "name": "python",
   "nbconvert_exporter": "python",
   "pygments_lexer": "ipython3",
   "version": "3.6.9"
  }
 },
 "nbformat": 4,
 "nbformat_minor": 2
}
