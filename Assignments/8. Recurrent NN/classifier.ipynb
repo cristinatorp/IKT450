{
 "cells": [
  {
   "cell_type": "markdown",
   "metadata": {},
   "source": [
    "# Chatbot\n",
    "* Make the chatbot so that you classify a category (i.e., tag) of input text\n",
    "    * Return a dialog from the correct class\n",
    "    * Note that one question could have multiple tags and you may need to simplify\n",
    "* Alternatively, make a sequence to sequence network that automatically learns what to respond\n",
    "    * It can be character based or word based\n",
    "* Hint:  Start with a subset of the dataset\n",
    "---"
   ]
  },
  {
   "cell_type": "code",
   "execution_count": 1,
   "metadata": {},
   "outputs": [],
   "source": [
    "import torch\n",
    "import torch.nn as nn\n",
    "import torch.nn.functional as F\n",
    "import torch.optim as optim\n",
    "from torchsummary import summary\n",
    "\n",
    "import numpy as np\n",
    "import pandas as pd\n",
    "import matplotlib.pyplot as plt\n",
    "from tqdm.notebook import tqdm, trange\n",
    "from nltk.stem import *\n",
    "\n",
    "import re\n",
    "import random\n",
    "np.random.seed(7)"
   ]
  },
  {
   "cell_type": "markdown",
   "metadata": {},
   "source": [
    "## Load into dataframes"
   ]
  },
  {
   "cell_type": "code",
   "execution_count": 2,
   "metadata": {},
   "outputs": [],
   "source": [
    "questions_df = pd.read_csv(\"./archive/Questions.csv\")\n",
    "answers_df = pd.read_csv(\"./archive/Answers.csv\")\n",
    "tags_df = pd.read_csv(\"./archive/Tags.csv\")"
   ]
  },
  {
   "cell_type": "code",
   "execution_count": 3,
   "metadata": {},
   "outputs": [
    {
     "data": {
      "text/html": [
       "<div>\n",
       "<style scoped>\n",
       "    .dataframe tbody tr th:only-of-type {\n",
       "        vertical-align: middle;\n",
       "    }\n",
       "\n",
       "    .dataframe tbody tr th {\n",
       "        vertical-align: top;\n",
       "    }\n",
       "\n",
       "    .dataframe thead th {\n",
       "        text-align: right;\n",
       "    }\n",
       "</style>\n",
       "<table border=\"1\" class=\"dataframe\">\n",
       "  <thead>\n",
       "    <tr style=\"text-align: right;\">\n",
       "      <th></th>\n",
       "      <th>Id</th>\n",
       "      <th>OwnerUserId</th>\n",
       "      <th>CreationDate</th>\n",
       "      <th>Score</th>\n",
       "      <th>Title</th>\n",
       "      <th>Body</th>\n",
       "    </tr>\n",
       "  </thead>\n",
       "  <tbody>\n",
       "    <tr>\n",
       "      <td>0</td>\n",
       "      <td>469</td>\n",
       "      <td>147.0</td>\n",
       "      <td>2008-08-02T15:11:16Z</td>\n",
       "      <td>21</td>\n",
       "      <td>How can I find the full path to a font from it...</td>\n",
       "      <td>&lt;p&gt;I am using the Photoshop's javascript API t...</td>\n",
       "    </tr>\n",
       "    <tr>\n",
       "      <td>1</td>\n",
       "      <td>502</td>\n",
       "      <td>147.0</td>\n",
       "      <td>2008-08-02T17:01:58Z</td>\n",
       "      <td>27</td>\n",
       "      <td>Get a preview JPEG of a PDF on Windows?</td>\n",
       "      <td>&lt;p&gt;I have a cross-platform (Python) applicatio...</td>\n",
       "    </tr>\n",
       "    <tr>\n",
       "      <td>2</td>\n",
       "      <td>535</td>\n",
       "      <td>154.0</td>\n",
       "      <td>2008-08-02T18:43:54Z</td>\n",
       "      <td>40</td>\n",
       "      <td>Continuous Integration System for a Python Cod...</td>\n",
       "      <td>&lt;p&gt;I'm starting work on a hobby project with a...</td>\n",
       "    </tr>\n",
       "    <tr>\n",
       "      <td>3</td>\n",
       "      <td>594</td>\n",
       "      <td>116.0</td>\n",
       "      <td>2008-08-03T01:15:08Z</td>\n",
       "      <td>25</td>\n",
       "      <td>cx_Oracle: How do I iterate over a result set?</td>\n",
       "      <td>&lt;p&gt;There are several ways to iterate over a re...</td>\n",
       "    </tr>\n",
       "    <tr>\n",
       "      <td>4</td>\n",
       "      <td>683</td>\n",
       "      <td>199.0</td>\n",
       "      <td>2008-08-03T13:19:16Z</td>\n",
       "      <td>28</td>\n",
       "      <td>Using 'in' to match an attribute of Python obj...</td>\n",
       "      <td>&lt;p&gt;I don't remember whether I was dreaming or ...</td>\n",
       "    </tr>\n",
       "    <tr>\n",
       "      <td>5</td>\n",
       "      <td>742</td>\n",
       "      <td>189.0</td>\n",
       "      <td>2008-08-03T15:55:28Z</td>\n",
       "      <td>30</td>\n",
       "      <td>Class views in Django</td>\n",
       "      <td>&lt;p&gt;&lt;a href=\"http://www.djangoproject.com/\"&gt;Dja...</td>\n",
       "    </tr>\n",
       "    <tr>\n",
       "      <td>6</td>\n",
       "      <td>766</td>\n",
       "      <td>1384652.0</td>\n",
       "      <td>2008-08-03T17:44:07Z</td>\n",
       "      <td>20</td>\n",
       "      <td>Python and MySQL</td>\n",
       "      <td>&lt;p&gt;I can get Python to work with Postgresql bu...</td>\n",
       "    </tr>\n",
       "    <tr>\n",
       "      <td>7</td>\n",
       "      <td>773</td>\n",
       "      <td>207.0</td>\n",
       "      <td>2008-08-03T18:27:09Z</td>\n",
       "      <td>256</td>\n",
       "      <td>How do I use Python's itertools.groupby()?</td>\n",
       "      <td>&lt;p&gt;I haven't been able to find an understandab...</td>\n",
       "    </tr>\n",
       "    <tr>\n",
       "      <td>8</td>\n",
       "      <td>972</td>\n",
       "      <td>145.0</td>\n",
       "      <td>2008-08-04T02:17:51Z</td>\n",
       "      <td>364</td>\n",
       "      <td>Adding a Method to an Existing Object Instance</td>\n",
       "      <td>&lt;p&gt;I've read that it is possible to add a meth...</td>\n",
       "    </tr>\n",
       "    <tr>\n",
       "      <td>9</td>\n",
       "      <td>1476</td>\n",
       "      <td>92.0</td>\n",
       "      <td>2008-08-04T18:20:36Z</td>\n",
       "      <td>251</td>\n",
       "      <td>How do you express binary literals in Python?</td>\n",
       "      <td>&lt;p&gt;How do you express an integer as a binary n...</td>\n",
       "    </tr>\n",
       "    <tr>\n",
       "      <td>10</td>\n",
       "      <td>1734</td>\n",
       "      <td>59.0</td>\n",
       "      <td>2008-08-05T00:12:55Z</td>\n",
       "      <td>20</td>\n",
       "      <td>Any experiences with Protocol Buffers?</td>\n",
       "      <td>&lt;p&gt;I was just looking through some information...</td>\n",
       "    </tr>\n",
       "    <tr>\n",
       "      <td>11</td>\n",
       "      <td>1829</td>\n",
       "      <td>30.0</td>\n",
       "      <td>2008-08-05T02:39:23Z</td>\n",
       "      <td>12</td>\n",
       "      <td>How do I make a menu that does not require the...</td>\n",
       "      <td>&lt;p&gt;I've got a menu in Python. That part was ea...</td>\n",
       "    </tr>\n",
       "    <tr>\n",
       "      <td>12</td>\n",
       "      <td>1854</td>\n",
       "      <td>116.0</td>\n",
       "      <td>2008-08-05T03:23:18Z</td>\n",
       "      <td>270</td>\n",
       "      <td>How to check what OS am I running on in Python?</td>\n",
       "      <td>&lt;p&gt;What do I need to look at to see if I'm on ...</td>\n",
       "    </tr>\n",
       "    <tr>\n",
       "      <td>13</td>\n",
       "      <td>1983</td>\n",
       "      <td>116.0</td>\n",
       "      <td>2008-08-05T07:18:55Z</td>\n",
       "      <td>31</td>\n",
       "      <td>Python: what is the difference between (1,2,3)...</td>\n",
       "      <td>&lt;p&gt;In many places, &lt;code&gt;(1,2,3)&lt;/code&gt; and &lt;c...</td>\n",
       "    </tr>\n",
       "    <tr>\n",
       "      <td>14</td>\n",
       "      <td>2311</td>\n",
       "      <td>394.0</td>\n",
       "      <td>2008-08-05T13:40:47Z</td>\n",
       "      <td>26</td>\n",
       "      <td>File size differences after copying a file to ...</td>\n",
       "      <td>&lt;p&gt;I have created a PHP-script to update a web...</td>\n",
       "    </tr>\n",
       "  </tbody>\n",
       "</table>\n",
       "</div>"
      ],
      "text/plain": [
       "      Id  OwnerUserId          CreationDate  Score  \\\n",
       "0    469        147.0  2008-08-02T15:11:16Z     21   \n",
       "1    502        147.0  2008-08-02T17:01:58Z     27   \n",
       "2    535        154.0  2008-08-02T18:43:54Z     40   \n",
       "3    594        116.0  2008-08-03T01:15:08Z     25   \n",
       "4    683        199.0  2008-08-03T13:19:16Z     28   \n",
       "5    742        189.0  2008-08-03T15:55:28Z     30   \n",
       "6    766    1384652.0  2008-08-03T17:44:07Z     20   \n",
       "7    773        207.0  2008-08-03T18:27:09Z    256   \n",
       "8    972        145.0  2008-08-04T02:17:51Z    364   \n",
       "9   1476         92.0  2008-08-04T18:20:36Z    251   \n",
       "10  1734         59.0  2008-08-05T00:12:55Z     20   \n",
       "11  1829         30.0  2008-08-05T02:39:23Z     12   \n",
       "12  1854        116.0  2008-08-05T03:23:18Z    270   \n",
       "13  1983        116.0  2008-08-05T07:18:55Z     31   \n",
       "14  2311        394.0  2008-08-05T13:40:47Z     26   \n",
       "\n",
       "                                                Title  \\\n",
       "0   How can I find the full path to a font from it...   \n",
       "1             Get a preview JPEG of a PDF on Windows?   \n",
       "2   Continuous Integration System for a Python Cod...   \n",
       "3      cx_Oracle: How do I iterate over a result set?   \n",
       "4   Using 'in' to match an attribute of Python obj...   \n",
       "5                               Class views in Django   \n",
       "6                                    Python and MySQL   \n",
       "7          How do I use Python's itertools.groupby()?   \n",
       "8      Adding a Method to an Existing Object Instance   \n",
       "9       How do you express binary literals in Python?   \n",
       "10             Any experiences with Protocol Buffers?   \n",
       "11  How do I make a menu that does not require the...   \n",
       "12    How to check what OS am I running on in Python?   \n",
       "13  Python: what is the difference between (1,2,3)...   \n",
       "14  File size differences after copying a file to ...   \n",
       "\n",
       "                                                 Body  \n",
       "0   <p>I am using the Photoshop's javascript API t...  \n",
       "1   <p>I have a cross-platform (Python) applicatio...  \n",
       "2   <p>I'm starting work on a hobby project with a...  \n",
       "3   <p>There are several ways to iterate over a re...  \n",
       "4   <p>I don't remember whether I was dreaming or ...  \n",
       "5   <p><a href=\"http://www.djangoproject.com/\">Dja...  \n",
       "6   <p>I can get Python to work with Postgresql bu...  \n",
       "7   <p>I haven't been able to find an understandab...  \n",
       "8   <p>I've read that it is possible to add a meth...  \n",
       "9   <p>How do you express an integer as a binary n...  \n",
       "10  <p>I was just looking through some information...  \n",
       "11  <p>I've got a menu in Python. That part was ea...  \n",
       "12  <p>What do I need to look at to see if I'm on ...  \n",
       "13  <p>In many places, <code>(1,2,3)</code> and <c...  \n",
       "14  <p>I have created a PHP-script to update a web...  "
      ]
     },
     "execution_count": 3,
     "metadata": {},
     "output_type": "execute_result"
    }
   ],
   "source": [
    "questions_df.head(15)\n",
    "#questions_df.describe()"
   ]
  },
  {
   "cell_type": "code",
   "execution_count": 4,
   "metadata": {},
   "outputs": [
    {
     "data": {
      "text/html": [
       "<div>\n",
       "<style scoped>\n",
       "    .dataframe tbody tr th:only-of-type {\n",
       "        vertical-align: middle;\n",
       "    }\n",
       "\n",
       "    .dataframe tbody tr th {\n",
       "        vertical-align: top;\n",
       "    }\n",
       "\n",
       "    .dataframe thead th {\n",
       "        text-align: right;\n",
       "    }\n",
       "</style>\n",
       "<table border=\"1\" class=\"dataframe\">\n",
       "  <thead>\n",
       "    <tr style=\"text-align: right;\">\n",
       "      <th></th>\n",
       "      <th>Id</th>\n",
       "      <th>OwnerUserId</th>\n",
       "      <th>CreationDate</th>\n",
       "      <th>ParentId</th>\n",
       "      <th>Score</th>\n",
       "      <th>Body</th>\n",
       "    </tr>\n",
       "  </thead>\n",
       "  <tbody>\n",
       "    <tr>\n",
       "      <td>0</td>\n",
       "      <td>497</td>\n",
       "      <td>50.0</td>\n",
       "      <td>2008-08-02T16:56:53Z</td>\n",
       "      <td>469</td>\n",
       "      <td>4</td>\n",
       "      <td>&lt;p&gt;open up a terminal (Applications-&amp;gt;Utilit...</td>\n",
       "    </tr>\n",
       "    <tr>\n",
       "      <td>1</td>\n",
       "      <td>518</td>\n",
       "      <td>153.0</td>\n",
       "      <td>2008-08-02T17:42:28Z</td>\n",
       "      <td>469</td>\n",
       "      <td>2</td>\n",
       "      <td>&lt;p&gt;I haven't been able to find anything that d...</td>\n",
       "    </tr>\n",
       "    <tr>\n",
       "      <td>2</td>\n",
       "      <td>536</td>\n",
       "      <td>161.0</td>\n",
       "      <td>2008-08-02T18:49:07Z</td>\n",
       "      <td>502</td>\n",
       "      <td>9</td>\n",
       "      <td>&lt;p&gt;You can use ImageMagick's convert utility f...</td>\n",
       "    </tr>\n",
       "    <tr>\n",
       "      <td>3</td>\n",
       "      <td>538</td>\n",
       "      <td>156.0</td>\n",
       "      <td>2008-08-02T18:56:56Z</td>\n",
       "      <td>535</td>\n",
       "      <td>23</td>\n",
       "      <td>&lt;p&gt;One possibility is Hudson.  It's written in...</td>\n",
       "    </tr>\n",
       "    <tr>\n",
       "      <td>4</td>\n",
       "      <td>541</td>\n",
       "      <td>157.0</td>\n",
       "      <td>2008-08-02T19:06:40Z</td>\n",
       "      <td>535</td>\n",
       "      <td>20</td>\n",
       "      <td>&lt;p&gt;We run &lt;a href=\"http://buildbot.net/trac\"&gt;B...</td>\n",
       "    </tr>\n",
       "    <tr>\n",
       "      <td>5</td>\n",
       "      <td>595</td>\n",
       "      <td>116.0</td>\n",
       "      <td>2008-08-03T01:17:36Z</td>\n",
       "      <td>594</td>\n",
       "      <td>25</td>\n",
       "      <td>&lt;p&gt;The canonical way is to use the built-in cu...</td>\n",
       "    </tr>\n",
       "    <tr>\n",
       "      <td>6</td>\n",
       "      <td>660</td>\n",
       "      <td>197.0</td>\n",
       "      <td>2008-08-03T12:09:18Z</td>\n",
       "      <td>535</td>\n",
       "      <td>14</td>\n",
       "      <td>&lt;p&gt;Second the Buildbot - Trac integration. You...</td>\n",
       "    </tr>\n",
       "    <tr>\n",
       "      <td>7</td>\n",
       "      <td>701</td>\n",
       "      <td>111.0</td>\n",
       "      <td>2008-08-03T14:30:50Z</td>\n",
       "      <td>683</td>\n",
       "      <td>3</td>\n",
       "      <td>&lt;p&gt;No, you were not dreaming.  Python has a pr...</td>\n",
       "    </tr>\n",
       "    <tr>\n",
       "      <td>8</td>\n",
       "      <td>735</td>\n",
       "      <td>145.0</td>\n",
       "      <td>2008-08-03T15:47:22Z</td>\n",
       "      <td>683</td>\n",
       "      <td>-2</td>\n",
       "      <td>&lt;p&gt;I think:&lt;/p&gt;\\n\\n&lt;pre&gt;&lt;code&gt;#!/bin/python&lt;br...</td>\n",
       "    </tr>\n",
       "    <tr>\n",
       "      <td>9</td>\n",
       "      <td>745</td>\n",
       "      <td>154.0</td>\n",
       "      <td>2008-08-03T15:59:19Z</td>\n",
       "      <td>683</td>\n",
       "      <td>8</td>\n",
       "      <td>&lt;p&gt;Are you looking to get a list of objects th...</td>\n",
       "    </tr>\n",
       "    <tr>\n",
       "      <td>10</td>\n",
       "      <td>750</td>\n",
       "      <td>199.0</td>\n",
       "      <td>2008-08-03T16:13:29Z</td>\n",
       "      <td>683</td>\n",
       "      <td>2</td>\n",
       "      <td>&lt;p&gt;What I was thinking of can be achieved usin...</td>\n",
       "    </tr>\n",
       "    <tr>\n",
       "      <td>11</td>\n",
       "      <td>764</td>\n",
       "      <td>NaN</td>\n",
       "      <td>2008-08-03T17:40:25Z</td>\n",
       "      <td>742</td>\n",
       "      <td>0</td>\n",
       "      <td>&lt;p&gt;Sounds to me like you're trying to combine ...</td>\n",
       "    </tr>\n",
       "    <tr>\n",
       "      <td>12</td>\n",
       "      <td>777</td>\n",
       "      <td>150.0</td>\n",
       "      <td>2008-08-03T18:32:27Z</td>\n",
       "      <td>766</td>\n",
       "      <td>5</td>\n",
       "      <td>&lt;p&gt;I don't have any experience with &lt;a href=\"h...</td>\n",
       "    </tr>\n",
       "    <tr>\n",
       "      <td>13</td>\n",
       "      <td>783</td>\n",
       "      <td>189.0</td>\n",
       "      <td>2008-08-03T18:40:09Z</td>\n",
       "      <td>773</td>\n",
       "      <td>52</td>\n",
       "      <td>&lt;p&gt;Can you show us your code?&lt;/p&gt;\\n\\n&lt;p&gt;The ex...</td>\n",
       "    </tr>\n",
       "    <tr>\n",
       "      <td>14</td>\n",
       "      <td>802</td>\n",
       "      <td>1384652.0</td>\n",
       "      <td>2008-08-03T20:07:05Z</td>\n",
       "      <td>766</td>\n",
       "      <td>4</td>\n",
       "      <td>&lt;p&gt;I uploaded it and got an internal error&lt;/p&gt;...</td>\n",
       "    </tr>\n",
       "  </tbody>\n",
       "</table>\n",
       "</div>"
      ],
      "text/plain": [
       "     Id  OwnerUserId          CreationDate  ParentId  Score  \\\n",
       "0   497         50.0  2008-08-02T16:56:53Z       469      4   \n",
       "1   518        153.0  2008-08-02T17:42:28Z       469      2   \n",
       "2   536        161.0  2008-08-02T18:49:07Z       502      9   \n",
       "3   538        156.0  2008-08-02T18:56:56Z       535     23   \n",
       "4   541        157.0  2008-08-02T19:06:40Z       535     20   \n",
       "5   595        116.0  2008-08-03T01:17:36Z       594     25   \n",
       "6   660        197.0  2008-08-03T12:09:18Z       535     14   \n",
       "7   701        111.0  2008-08-03T14:30:50Z       683      3   \n",
       "8   735        145.0  2008-08-03T15:47:22Z       683     -2   \n",
       "9   745        154.0  2008-08-03T15:59:19Z       683      8   \n",
       "10  750        199.0  2008-08-03T16:13:29Z       683      2   \n",
       "11  764          NaN  2008-08-03T17:40:25Z       742      0   \n",
       "12  777        150.0  2008-08-03T18:32:27Z       766      5   \n",
       "13  783        189.0  2008-08-03T18:40:09Z       773     52   \n",
       "14  802    1384652.0  2008-08-03T20:07:05Z       766      4   \n",
       "\n",
       "                                                 Body  \n",
       "0   <p>open up a terminal (Applications-&gt;Utilit...  \n",
       "1   <p>I haven't been able to find anything that d...  \n",
       "2   <p>You can use ImageMagick's convert utility f...  \n",
       "3   <p>One possibility is Hudson.  It's written in...  \n",
       "4   <p>We run <a href=\"http://buildbot.net/trac\">B...  \n",
       "5   <p>The canonical way is to use the built-in cu...  \n",
       "6   <p>Second the Buildbot - Trac integration. You...  \n",
       "7   <p>No, you were not dreaming.  Python has a pr...  \n",
       "8   <p>I think:</p>\\n\\n<pre><code>#!/bin/python<br...  \n",
       "9   <p>Are you looking to get a list of objects th...  \n",
       "10  <p>What I was thinking of can be achieved usin...  \n",
       "11  <p>Sounds to me like you're trying to combine ...  \n",
       "12  <p>I don't have any experience with <a href=\"h...  \n",
       "13  <p>Can you show us your code?</p>\\n\\n<p>The ex...  \n",
       "14  <p>I uploaded it and got an internal error</p>...  "
      ]
     },
     "execution_count": 4,
     "metadata": {},
     "output_type": "execute_result"
    }
   ],
   "source": [
    "answers_df.head(15)"
   ]
  },
  {
   "cell_type": "code",
   "execution_count": 5,
   "metadata": {},
   "outputs": [
    {
     "data": {
      "text/html": [
       "<div>\n",
       "<style scoped>\n",
       "    .dataframe tbody tr th:only-of-type {\n",
       "        vertical-align: middle;\n",
       "    }\n",
       "\n",
       "    .dataframe tbody tr th {\n",
       "        vertical-align: top;\n",
       "    }\n",
       "\n",
       "    .dataframe thead th {\n",
       "        text-align: right;\n",
       "    }\n",
       "</style>\n",
       "<table border=\"1\" class=\"dataframe\">\n",
       "  <thead>\n",
       "    <tr style=\"text-align: right;\">\n",
       "      <th></th>\n",
       "      <th>Id</th>\n",
       "      <th>Tag</th>\n",
       "    </tr>\n",
       "  </thead>\n",
       "  <tbody>\n",
       "    <tr>\n",
       "      <td>0</td>\n",
       "      <td>469</td>\n",
       "      <td>python</td>\n",
       "    </tr>\n",
       "    <tr>\n",
       "      <td>1</td>\n",
       "      <td>469</td>\n",
       "      <td>osx</td>\n",
       "    </tr>\n",
       "    <tr>\n",
       "      <td>2</td>\n",
       "      <td>469</td>\n",
       "      <td>fonts</td>\n",
       "    </tr>\n",
       "    <tr>\n",
       "      <td>3</td>\n",
       "      <td>469</td>\n",
       "      <td>photoshop</td>\n",
       "    </tr>\n",
       "    <tr>\n",
       "      <td>4</td>\n",
       "      <td>502</td>\n",
       "      <td>python</td>\n",
       "    </tr>\n",
       "    <tr>\n",
       "      <td>5</td>\n",
       "      <td>502</td>\n",
       "      <td>windows</td>\n",
       "    </tr>\n",
       "    <tr>\n",
       "      <td>6</td>\n",
       "      <td>502</td>\n",
       "      <td>image</td>\n",
       "    </tr>\n",
       "    <tr>\n",
       "      <td>7</td>\n",
       "      <td>502</td>\n",
       "      <td>pdf</td>\n",
       "    </tr>\n",
       "    <tr>\n",
       "      <td>8</td>\n",
       "      <td>535</td>\n",
       "      <td>python</td>\n",
       "    </tr>\n",
       "    <tr>\n",
       "      <td>9</td>\n",
       "      <td>535</td>\n",
       "      <td>continuous-integration</td>\n",
       "    </tr>\n",
       "    <tr>\n",
       "      <td>10</td>\n",
       "      <td>535</td>\n",
       "      <td>extreme-programming</td>\n",
       "    </tr>\n",
       "    <tr>\n",
       "      <td>11</td>\n",
       "      <td>594</td>\n",
       "      <td>python</td>\n",
       "    </tr>\n",
       "    <tr>\n",
       "      <td>12</td>\n",
       "      <td>594</td>\n",
       "      <td>sql</td>\n",
       "    </tr>\n",
       "    <tr>\n",
       "      <td>13</td>\n",
       "      <td>594</td>\n",
       "      <td>database</td>\n",
       "    </tr>\n",
       "    <tr>\n",
       "      <td>14</td>\n",
       "      <td>594</td>\n",
       "      <td>oracle</td>\n",
       "    </tr>\n",
       "  </tbody>\n",
       "</table>\n",
       "</div>"
      ],
      "text/plain": [
       "     Id                     Tag\n",
       "0   469                  python\n",
       "1   469                     osx\n",
       "2   469                   fonts\n",
       "3   469               photoshop\n",
       "4   502                  python\n",
       "5   502                 windows\n",
       "6   502                   image\n",
       "7   502                     pdf\n",
       "8   535                  python\n",
       "9   535  continuous-integration\n",
       "10  535     extreme-programming\n",
       "11  594                  python\n",
       "12  594                     sql\n",
       "13  594                database\n",
       "14  594                  oracle"
      ]
     },
     "execution_count": 5,
     "metadata": {},
     "output_type": "execute_result"
    }
   ],
   "source": [
    "tags_df.dropna(inplace=True)\n",
    "tags_df.head(15)\n",
    "#tags_df.nunique()\n",
    "#tags_df.count()"
   ]
  },
  {
   "cell_type": "code",
   "execution_count": 6,
   "metadata": {},
   "outputs": [
    {
     "name": "stdout",
     "output_type": "stream",
     "text": [
      "Questions:\t 607282\n",
      "Answers:\t 987122\n",
      "Tags:\t\t 1884635\n",
      "\n",
      "These must be the same size!\n"
     ]
    }
   ],
   "source": [
    "print(\"Questions:\\t\", len(questions_df))\n",
    "print(\"Answers:\\t\", len(answers_df))\n",
    "print(\"Tags:\\t\\t\", len(tags_df))\n",
    "print(\"\\nThese must be the same size!\")"
   ]
  },
  {
   "cell_type": "markdown",
   "metadata": {},
   "source": [
    "---\n",
    "## Assumptions and decisions\n",
    "* Drop questions without answers\n",
    "* Only keep the top answer (the one with the most votes)\n",
    "* As all questions are related to python, `python` is not a relevant tag\n",
    "    * Drop all tags with `Tag='python'`\n",
    "    * Only keep the first tag per `Id` for easier classification\n",
    "* **The question, answer, and tag lists must have the same size**\n",
    "    * All questions must have an answer and a tag\n",
    "    * One answer per question\n",
    "    * One tag per question"
   ]
  },
  {
   "cell_type": "code",
   "execution_count": 7,
   "metadata": {},
   "outputs": [
    {
     "name": "stdout",
     "output_type": "stream",
     "text": [
      "Questions with answers: 539238\n"
     ]
    }
   ],
   "source": [
    "# Drop questions without answers\n",
    "questions_with_answer = questions_df[questions_df['Id'].isin(answers_df['ParentId'])]\n",
    "print(\"Questions with answers:\", len(questions_with_answer))"
   ]
  },
  {
   "cell_type": "code",
   "execution_count": 8,
   "metadata": {},
   "outputs": [
    {
     "name": "stdout",
     "output_type": "stream",
     "text": [
      "Tags with questions: 498305\n"
     ]
    }
   ],
   "source": [
    "# Drop all python tags\n",
    "no_python_tags = tags_df[tags_df['Tag'] != 'python']\n",
    "\n",
    "# Only keep the first tag per question (if several)\n",
    "no_dup_tags = no_python_tags.drop_duplicates(subset='Id')\n",
    "\n",
    "# As we have dropped questions, we also need to drop the corresponding tags\n",
    "tags_with_questions = no_dup_tags[no_dup_tags['Id'].isin(questions_with_answer['Id'])]\n",
    "print(\"Tags with questions:\", len(tags_with_questions))"
   ]
  },
  {
   "cell_type": "code",
   "execution_count": 9,
   "metadata": {},
   "outputs": [
    {
     "name": "stdout",
     "output_type": "stream",
     "text": [
      "Questions with answers and tags: 498305\n"
     ]
    }
   ],
   "source": [
    "# Drop the questions that no longer have tags\n",
    "questions_with_tag = questions_with_answer[questions_with_answer['Id'].isin(tags_with_questions['Id'])]\n",
    "print(\"Questions with answers and tags:\", len(questions_with_tag))"
   ]
  },
  {
   "cell_type": "code",
   "execution_count": 10,
   "metadata": {},
   "outputs": [
    {
     "name": "stdout",
     "output_type": "stream",
     "text": [
      "Top answers:  498305\n"
     ]
    }
   ],
   "source": [
    "# Drop answers that no longer have questions\n",
    "answers_with_questions = answers_df[answers_df['ParentId'].isin(questions_with_tag['Id'])]\n",
    "\n",
    "# Keep the answer with the highest score, sort them by question ID\n",
    "grouped_answers = answers_with_questions.sort_values(['Score'], ascending=False).groupby('ParentId').head(1)\n",
    "sorted_answers = grouped_answers.sort_values(['ParentId'])\n",
    "print(\"Top answers: \", len(sorted_answers))"
   ]
  },
  {
   "cell_type": "code",
   "execution_count": 11,
   "metadata": {},
   "outputs": [
    {
     "name": "stdout",
     "output_type": "stream",
     "text": [
      "Questions:\t 498305\n",
      "Answers:\t 498305\n",
      "Tags:\t\t 498305\n",
      "\n",
      "All are now the same size!\n"
     ]
    }
   ],
   "source": [
    "print(\"Questions:\\t\", len(questions_with_tag))\n",
    "print(\"Answers:\\t\", len(sorted_answers))\n",
    "print(\"Tags:\\t\\t\", len(tags_with_questions))\n",
    "\n",
    "if len(questions_with_tag) == len(sorted_answers) and len(questions_with_tag) == len(tags_with_questions):\n",
    "    print(\"\\nAll are now the same size!\")\n",
    "else:\n",
    "    print(\"\\nRecalculate!\")"
   ]
  },
  {
   "cell_type": "code",
   "execution_count": 12,
   "metadata": {},
   "outputs": [],
   "source": [
    "df_questions = questions_with_tag.reset_index(drop=True)\n",
    "df_answers = sorted_answers.reset_index(drop=True)\n",
    "df_tags = tags_with_questions.reset_index(drop=True)\n",
    "num_questions = len(df_questions)"
   ]
  },
  {
   "cell_type": "code",
   "execution_count": 13,
   "metadata": {},
   "outputs": [],
   "source": [
    "def detect_indexing_errors():\n",
    "    detected_errors = False\n",
    "    for i in trange(num_questions):\n",
    "        q_id = df_questions.loc[i]['Id']\n",
    "        a_id = df_answers.loc[i]['ParentId']\n",
    "        t_id = df_tags.loc[i]['Id']\n",
    "        is_same = q_id == a_id and q_id == t_id\n",
    "        if not is_same:\n",
    "            detected_errors = True\n",
    "            print(f\"Q: {q_id}, A: {a_id}, T: {t_id}\")\n",
    "            break\n",
    "    return detected_errors"
   ]
  },
  {
   "cell_type": "markdown",
   "metadata": {},
   "source": [
    "**NB! This takes a while, do not run unless necessary**"
   ]
  },
  {
   "cell_type": "code",
   "execution_count": 14,
   "metadata": {},
   "outputs": [
    {
     "data": {
      "application/vnd.jupyter.widget-view+json": {
       "model_id": "938cc650ace74b0d81fc405cc6f2c434",
       "version_major": 2,
       "version_minor": 0
      },
      "text/plain": [
       "HBox(children=(FloatProgress(value=0.0, max=498305.0), HTML(value='')))"
      ]
     },
     "metadata": {},
     "output_type": "display_data"
    },
    {
     "name": "stdout",
     "output_type": "stream",
     "text": [
      "\n",
      "Can proceed: Yes\n"
     ]
    }
   ],
   "source": [
    "detected_errors = detect_indexing_errors()\n",
    "can_proceed = \"Yes\" if not detected_errors else \"NO\"\n",
    "print(\"Can proceed:\", can_proceed)"
   ]
  },
  {
   "cell_type": "markdown",
   "metadata": {},
   "source": [
    "## Preprocessing text\n",
    "* Questions is x (ID is index)\n",
    "    * Only use the title of the question, as I assume this is the most similar to what will be asked in a chatbot\n",
    "* Tags is y (ID is index)\n",
    "* Answers are given as response in the chatbot\n",
    "* **Testing with a dataset of 1000 entries first**"
   ]
  },
  {
   "cell_type": "code",
   "execution_count": 16,
   "metadata": {},
   "outputs": [],
   "source": [
    "train_size = 1000"
   ]
  },
  {
   "cell_type": "code",
   "execution_count": 17,
   "metadata": {},
   "outputs": [],
   "source": [
    "x_train_temp = df_questions['Title'].to_numpy()[:train_size]\n",
    "y_train_temp = df_tags['Tag'].to_numpy()[:train_size].tolist()\n",
    "html_answers = df_answers['Body'].to_numpy()[:train_size].tolist()"
   ]
  },
  {
   "cell_type": "code",
   "execution_count": 19,
   "metadata": {},
   "outputs": [
    {
     "name": "stdout",
     "output_type": "stream",
     "text": [
      "['How can I find the full path to a font from its display name on a Mac?'\n",
      " 'Get a preview JPEG of a PDF on Windows?'\n",
      " 'Continuous Integration System for a Python Codebase'\n",
      " 'cx_Oracle: How do I iterate over a result set?'\n",
      " \"Using 'in' to match an attribute of Python objects in an array\"\n",
      " 'Class views in Django' 'Python and MySQL'\n",
      " \"How do I use Python's itertools.groupby()?\"\n",
      " 'Adding a Method to an Existing Object Instance'\n",
      " 'How do you express binary literals in Python?'\n",
      " 'Any experiences with Protocol Buffers?'\n",
      " 'Python: what is the difference between (1,2,3) and [1,2,3], and when should I use each?'\n",
      " 'File size differences after copying a file to a server vía FTP'\n",
      " 'How can I create a directly-executable cross-platform GUI app using Python?'\n",
      " 'Programmatically talking to a Serial Port in OS X or Linux'\n",
      " 'How to sell Python to a client/boss/person with lots of cash'\n",
      " 'How do you set up Python scripts to work in Apache 2.0?'\n",
      " 'Does anyone have experience creating a shared library in MATLAB?'\n",
      " 'Cross Platform, Language Agnostic GUI Markup Language?'\n",
      " 'Convert Bytes to Floating Point Numbers in Python']\n"
     ]
    }
   ],
   "source": [
    "print(x_train_temp[:20])"
   ]
  },
  {
   "cell_type": "code",
   "execution_count": 20,
   "metadata": {},
   "outputs": [
    {
     "name": "stdout",
     "output_type": "stream",
     "text": [
      "['osx', 'windows', 'continuous-integration', 'sql', 'arrays', 'django', 'mysql', 'iteration', 'oop', 'syntax', 'xml', 'list', 'php', 'user-interface', 'linux', 'php', 'apache', 'c', 'user-interface', 'floating-point', 'unicode', 'urllib', 'data-structures', 'mysql', 'xml', 'mp3', 'c++', 'xml', 'doctest', '.net', 'string', 'regex', 'functional-programming', 'osx', 'regex', 'regex', 'xml', 'swig', 'xss', 'zip', 'command-line', 'validation', 'object', 'list', 'php', 'command-line', 'linux', 'database', 'mysql', 'java', 'datetime', 'ruby', 'django', 'string-formatting', 'windows', 'ruby', 'visual-studio-2008', 'windows', 'binary', 'gtk', 'reflection', 'user-interface', 'translation', 'php', 'security', 'c', 'linux', 'refactoring', 'web-services', 'xml', 'linux', 'osx', 'multithreading', 'django', 'file-io', 'windows', 'unit-testing', 'ssh', 'performance', 'multithreading', 'http', 'django', 'language-features', 'windows', 'introspection', 'pylons', 'html', 'mapping', 'ruby', 'ide', 'shell', 'django', 'struct', 'string', 'svn-merge', 'django', 'django', 'syntax', 'python-3.x', 'parsing']\n"
     ]
    }
   ],
   "source": [
    "print(y_train_temp[:100])"
   ]
  },
  {
   "cell_type": "code",
   "execution_count": 21,
   "metadata": {},
   "outputs": [],
   "source": [
    "def clean_html(raw_html):\n",
    "    cleanr = re.compile(\"<.*?>\")\n",
    "    clean_text = re.sub(cleanr, \"\", raw_html)\n",
    "    return clean_text"
   ]
  },
  {
   "cell_type": "code",
   "execution_count": 27,
   "metadata": {},
   "outputs": [
    {
     "name": "stdout",
     "output_type": "stream",
     "text": [
      "EXAMPLE:\n",
      "\"<p>Unfortunately the only API that isn't deprecated is located in the ApplicationServices framework, which doesn't have a bridge support file, and thus isn't available in the bridge. If you're wanting to use ctypes, you can use ATSFontGetFileReference after looking up the ATSFontRef.</p>\n",
      "\n",
      "<p>Cocoa doesn't have any native support, at least as of 10.5, for getting the location of a font.</p>\"\n",
      "\n",
      "TURNS INTO:\n",
      "\"Unfortunately the only API that isn't deprecated is located in the ApplicationServices framework, which doesn't have a bridge support file, and thus isn't available in the bridge. If you're wanting to use ctypes, you can use ATSFontGetFileReference after looking up the ATSFontRef.\n",
      "\n",
      "Cocoa doesn't have any native support, at least as of 10.5, for getting the location of a font.\"\n"
     ]
    }
   ],
   "source": [
    "# Remove all html tags from answers\n",
    "answers = [clean_html(ans) for ans in html_answers]\n",
    "\n",
    "print(\"EXAMPLE:\")\n",
    "print(f\"\\\"{html_answers[0]}\\\"\")\n",
    "print(\"\\nTURNS INTO:\")\n",
    "print(f\"\\\"{answers[0]}\\\"\")"
   ]
  },
  {
   "cell_type": "markdown",
   "metadata": {},
   "source": [
    "### Getting categories"
   ]
  },
  {
   "cell_type": "code",
   "execution_count": 28,
   "metadata": {},
   "outputs": [
    {
     "name": "stdout",
     "output_type": "stream",
     "text": [
      "324\n"
     ]
    }
   ],
   "source": [
    "categories = list(set(y_train_temp))\n",
    "print(len(categories))"
   ]
  },
  {
   "cell_type": "code",
   "execution_count": 29,
   "metadata": {},
   "outputs": [],
   "source": [
    "# Replace each label with its category index (both x and y here are now numpy arrays)\n",
    "y_train_org = np.array([categories.index(i) for i in y_train_temp])\n",
    "x_train_org = x_train_temp[:]\n",
    "\n",
    "num_classes = len(categories)\n",
    "y_train = []"
   ]
  },
  {
   "cell_type": "code",
   "execution_count": 30,
   "metadata": {},
   "outputs": [],
   "source": [
    "for n in [categories.index(i) for i in y_train_temp]:\n",
    "    y_train.append([0 for i in range(num_classes)]) # Create an array of 324 zeros (category set length)\n",
    "    y_train[-1][n] = 1 # Set the index to 1 for the label in mention"
   ]
  },
  {
   "cell_type": "markdown",
   "metadata": {},
   "source": [
    "### Embedding and stemming"
   ]
  },
  {
   "cell_type": "code",
   "execution_count": 31,
   "metadata": {},
   "outputs": [],
   "source": [
    "all_words = \" \".join(x_train_temp).lower().split(\" \")\n",
    "unique_words = list(set(all_words))\n",
    "\n",
    "stemmer = PorterStemmer()\n",
    "# TODO: Actually do some stemming\n",
    "\n",
    "x_train = []\n",
    "x_array_size = 10"
   ]
  },
  {
   "cell_type": "markdown",
   "metadata": {},
   "source": [
    "**Make text into numbers:**\n",
    "* Takes each line and returns an array of ten numbers\n",
    "* If ten or more words, append the appropriate `unique_words` index\n",
    "* If less than ten words, simply add zeros so the array is always of length 10\n",
    "\n",
    "Example:  \n",
    "\"*Continuous Integration System for a Python Codebase*\" → `[1271, 24, 1360, 375, 588, 294, 1789, 0, 0, 0]`"
   ]
  },
  {
   "cell_type": "code",
   "execution_count": 32,
   "metadata": {},
   "outputs": [],
   "source": [
    "def make_text_into_numbers(text):\n",
    "    iwords = text.lower().split(\" \")\n",
    "    numbers = []\n",
    "    \n",
    "    for n in iwords:\n",
    "        try:\n",
    "            numbers.append(unique_words.index(n))\n",
    "        except ValueError:\n",
    "            numbers.append(0)\n",
    "    \n",
    "    zeros_array = np.zeros(x_array_size - 1).tolist()\n",
    "    numbers = numbers + zeros_array # add zeros in case of less than required array size\n",
    "    return numbers[:x_array_size]"
   ]
  },
  {
   "cell_type": "code",
   "execution_count": 33,
   "metadata": {},
   "outputs": [],
   "source": [
    "for i in x_train_temp:\n",
    "    t = make_text_into_numbers(i)\n",
    "    x_train.append(t)"
   ]
  },
  {
   "cell_type": "code",
   "execution_count": 34,
   "metadata": {},
   "outputs": [
    {
     "name": "stdout",
     "output_type": "stream",
     "text": [
      "{10}\n"
     ]
    }
   ],
   "source": [
    "# Assure that each array in x_train is of intended array size\n",
    "print(set([len(i) for i in x_train]))"
   ]
  },
  {
   "cell_type": "code",
   "execution_count": 35,
   "metadata": {},
   "outputs": [],
   "source": [
    "x_train = torch.LongTensor(x_train)\n",
    "y_train = torch.Tensor(y_train)"
   ]
  },
  {
   "cell_type": "code",
   "execution_count": 36,
   "metadata": {},
   "outputs": [
    {
     "name": "stdout",
     "output_type": "stream",
     "text": [
      "tensor([[ 764, 2021, 1375,  ...,  826,   54,  828],\n",
      "        [ 304,   54,   56,  ...,    4, 1308,    0],\n",
      "        [ 790,   15, 2236,  ...,    0,    0,    0],\n",
      "        ...,\n",
      "        [ 702, 1601, 1977,  ...,    0,    0,    0],\n",
      "        [ 764,  826, 2323,  ...,    4,  109,  157],\n",
      "        [ 775, 1283, 2323,  ...,  873, 1599,    0]])\n",
      "tensor([[0., 0., 0.,  ..., 0., 0., 0.],\n",
      "        [0., 0., 0.,  ..., 0., 0., 0.],\n",
      "        [0., 0., 0.,  ..., 0., 0., 0.],\n",
      "        ...,\n",
      "        [0., 0., 0.,  ..., 0., 0., 0.],\n",
      "        [0., 0., 0.,  ..., 0., 0., 0.],\n",
      "        [0., 0., 0.,  ..., 0., 0., 0.]])\n"
     ]
    }
   ],
   "source": [
    "print(x_train)\n",
    "print(y_train)"
   ]
  },
  {
   "cell_type": "markdown",
   "metadata": {},
   "source": [
    "---\n",
    "## Model"
   ]
  },
  {
   "cell_type": "code",
   "execution_count": 37,
   "metadata": {},
   "outputs": [],
   "source": [
    "class Net(nn.Module):\n",
    "    def __init__(self):\n",
    "        super(Net, self).__init__()\n",
    "        self.embedding = nn.Embedding(len(unique_words), 128)\n",
    "        \n",
    "        self.lstm = nn.LSTM(input_size = 128,\n",
    "                           hidden_size = 128,\n",
    "                           num_layers = 1,\n",
    "                           batch_first = True,\n",
    "                           bidirectional = False)\n",
    "        \n",
    "        self.fc1 = nn.Linear(128, 512)\n",
    "        # TODO: A middle layer here?\n",
    "        self.fc2 = nn.Linear(512, num_classes)\n",
    "        \n",
    "    def forward(self, inp):\n",
    "        e = self.embedding(inp)\n",
    "        output, hidden = self.lstm(e)\n",
    "        \n",
    "        x = self.fc1(output[:, -1, :])\n",
    "        x = F.relu(x)\n",
    "        x = self.fc2(x)\n",
    "        x = torch.sigmoid(x)\n",
    "        return x"
   ]
  },
  {
   "cell_type": "code",
   "execution_count": 40,
   "metadata": {},
   "outputs": [
    {
     "name": "stdout",
     "output_type": "stream",
     "text": [
      "Model Net(\n",
      "  (embedding): Embedding(2400, 128)\n",
      "  (lstm): LSTM(128, 128, batch_first=True)\n",
      "  (fc1): Linear(in_features=128, out_features=512, bias=True)\n",
      "  (fc2): Linear(in_features=512, out_features=324, bias=True)\n",
      ")\n",
      "Parameters [307200, 65536, 65536, 512, 512, 65536, 512, 165888, 324]\n"
     ]
    }
   ],
   "source": [
    "net = Net()\n",
    "print(\"Model\", net)\n",
    "print(\"Parameters\", [param.nelement() for param in net.parameters()])"
   ]
  },
  {
   "cell_type": "code",
   "execution_count": 41,
   "metadata": {},
   "outputs": [],
   "source": [
    "max_words = 10\n",
    "batch_size = 1\n",
    "epochs = 5\n",
    "learning_rate = 0.001"
   ]
  },
  {
   "cell_type": "code",
   "execution_count": 42,
   "metadata": {},
   "outputs": [],
   "source": [
    "criterion = nn.CrossEntropyLoss()\n",
    "optimizer = optim.SGD(net.parameters(), lr=learning_rate)\n",
    "loss_fn = nn.MSELoss()"
   ]
  },
  {
   "cell_type": "code",
   "execution_count": 43,
   "metadata": {},
   "outputs": [],
   "source": [
    "t_loss = []\n",
    "v_loss = []\n",
    "\n",
    "t_acc = []\n",
    "v_acc = []"
   ]
  },
  {
   "cell_type": "code",
   "execution_count": 44,
   "metadata": {},
   "outputs": [],
   "source": [
    "def avg(l):\n",
    "    return sum(l) / len(l)"
   ]
  },
  {
   "cell_type": "markdown",
   "metadata": {},
   "source": [
    "## Train model"
   ]
  },
  {
   "cell_type": "code",
   "execution_count": 45,
   "metadata": {},
   "outputs": [
    {
     "data": {
      "application/vnd.jupyter.widget-view+json": {
       "model_id": "f81a5a69391c498886e009d451c3143f",
       "version_major": 2,
       "version_minor": 0
      },
      "text/plain": [
       "HBox(children=(FloatProgress(value=0.0, max=1000.0), HTML(value='')))"
      ]
     },
     "metadata": {},
     "output_type": "display_data"
    },
    {
     "name": "stdout",
     "output_type": "stream",
     "text": [
      "0.25102994\n",
      "0.2509648\n",
      "0.25089985\n",
      "0.25083512\n",
      "0.25077027\n",
      "0.2507055\n",
      "0.25064093\n",
      "0.25057635\n",
      "0.25051168\n",
      "0.2504473\n",
      "\n"
     ]
    }
   ],
   "source": [
    "n_steps = 1000\n",
    "\n",
    "for i in trange(n_steps):\n",
    "    y_pred_train = net(x_train)\n",
    "    loss_train = loss_fn(y_pred_train, y_train)\n",
    "    \n",
    "    optimizer.zero_grad()\n",
    "    loss_train.backward()\n",
    "    optimizer.step()\n",
    "    \n",
    "    loss = loss_train.detach().numpy()\n",
    "    t_loss.append(loss)\n",
    "    \n",
    "    # Print loss each 100th round\n",
    "    if i%100 == 0:\n",
    "        print(loss)"
   ]
  },
  {
   "cell_type": "markdown",
   "metadata": {},
   "source": [
    "### Plot loss"
   ]
  },
  {
   "cell_type": "code",
   "execution_count": 46,
   "metadata": {},
   "outputs": [
    {
     "data": {
      "image/png": "[encoded data removed]",
      "text/plain": [
       "<Figure size 432x288 with 1 Axes>"
      ]
     },
     "metadata": {
      "needs_background": "light"
     },
     "output_type": "display_data"
    }
   ],
   "source": [
    "x_values = [i for i in range(n_steps)]\n",
    "\n",
    "plt.plot(x_values, t_loss)\n",
    "plt.xlabel(\"Epoch\")\n",
    "plt.ylabel(\"Loss\")\n",
    "plt.show()"
   ]
  },
  {
   "cell_type": "markdown",
   "metadata": {},
   "source": [
    "## Test model"
   ]
  },
  {
   "cell_type": "code",
   "execution_count": 47,
   "metadata": {},
   "outputs": [],
   "source": [
    "def classify(user_input):\n",
    "    indices = make_text_into_numbers(user_input)\n",
    "    question_tensor = torch.LongTensor([indices])\n",
    "    output = net(question_tensor).detach().numpy()\n",
    "    tag_index = np.argmax(output)\n",
    "    return tag_index"
   ]
  },
  {
   "cell_type": "code",
   "execution_count": 48,
   "metadata": {},
   "outputs": [
    {
     "name": "stdout",
     "output_type": "stream",
     "text": [
      "Chatbot: What can I help you with today?\n",
      "You: Change path files for osx\n",
      "Chatbot: There's a text progress bar library for python at  http://pypi.python.org/pypi/progressbar/2.2 that you might find useful: \n",
      "\n",
      "\n",
      "  This library provides a text mode progressbar. This is tipically used to display the progress of a long running operation, providing a visual clue that processing is underway.\n",
      "  \n",
      "  The ProgressBar class manages the progress, and the format of the line is given by a number of widgets. A widget is an object that may display diferently depending on the state of the progress. There are three types of widget: - a string, which always shows itself; - a ProgressBarWidget, which may return a diferent value every time it's update method is called; and - a ProgressBarWidgetHFill, which is like ProgressBarWidget, except it expands to fill the remaining width of the line.\n",
      "  \n",
      "  The progressbar module is very easy to use, yet very powerful. And automatically supports features like auto-resizing when available.\n",
      "\n",
      "\n",
      "Question: How can I encrypt files in Python?\n",
      "Chatbot: There's a text progress bar library for python at  http://pypi.python.org/pypi/progressbar/2.2 that you might find useful: \n",
      "\n",
      "\n",
      "  This library provides a text mode progressbar. This is tipically used to display the progress of a long running operation, providing a visual clue that processing is underway.\n",
      "  \n",
      "  The ProgressBar class manages the progress, and the format of the line is given by a number of widgets. A widget is an object that may display diferently depending on the state of the progress. There are three types of widget: - a string, which always shows itself; - a ProgressBarWidget, which may return a diferent value every time it's update method is called; and - a ProgressBarWidgetHFill, which is like ProgressBarWidget, except it expands to fill the remaining width of the line.\n",
      "  \n",
      "  The progressbar module is very easy to use, yet very powerful. And automatically supports features like auto-resizing when available.\n",
      "\n",
      "\n",
      "Question: Convert numpy arrays to lists\n",
      "Chatbot: There's a text progress bar library for python at  http://pypi.python.org/pypi/progressbar/2.2 that you might find useful: \n",
      "\n",
      "\n",
      "  This library provides a text mode progressbar. This is tipically used to display the progress of a long running operation, providing a visual clue that processing is underway.\n",
      "  \n",
      "  The ProgressBar class manages the progress, and the format of the line is given by a number of widgets. A widget is an object that may display diferently depending on the state of the progress. There are three types of widget: - a string, which always shows itself; - a ProgressBarWidget, which may return a diferent value every time it's update method is called; and - a ProgressBarWidgetHFill, which is like ProgressBarWidget, except it expands to fill the remaining width of the line.\n",
      "  \n",
      "  The progressbar module is very easy to use, yet very powerful. And automatically supports features like auto-resizing when available.\n",
      "\n",
      "\n",
      "Question: Regex for cleaning html strings\n",
      "Chatbot: There's a text progress bar library for python at  http://pypi.python.org/pypi/progressbar/2.2 that you might find useful: \n",
      "\n",
      "\n",
      "  This library provides a text mode progressbar. This is tipically used to display the progress of a long running operation, providing a visual clue that processing is underway.\n",
      "  \n",
      "  The ProgressBar class manages the progress, and the format of the line is given by a number of widgets. A widget is an object that may display diferently depending on the state of the progress. There are three types of widget: - a string, which always shows itself; - a ProgressBarWidget, which may return a diferent value every time it's update method is called; and - a ProgressBarWidgetHFill, which is like ProgressBarWidget, except it expands to fill the remaining width of the line.\n",
      "  \n",
      "  The progressbar module is very easy to use, yet very powerful. And automatically supports features like auto-resizing when available.\n",
      "\n",
      "\n",
      "Question: Bye\n",
      "Chatbot: Have a nice day! Beep boop\n"
     ]
    }
   ],
   "source": [
    "print(\"Chatbot: What can I help you with today?\")\n",
    "\n",
    "user_input = input(\"You: \")\n",
    "while user_input != \"Bye\":\n",
    "    tag_index = classify(user_input)\n",
    "    answer = answers[tag_index]\n",
    "    print(f\"Chatbot: {answer}\")\n",
    "    user_input = input(\"Question: \")\n",
    "\n",
    "print(\"Chatbot: Have a nice day! Beep boop\")"
   ]
  },
  {
   "cell_type": "code",
   "execution_count": null,
   "metadata": {},
   "outputs": [],
   "source": []
  }
 ],
 "metadata": {
  "kernelspec": {
   "display_name": "Python 3",
   "language": "python",
   "name": "python3"
  },
  "language_info": {
   "codemirror_mode": {
    "name": "ipython",
    "version": 3
   },
   "file_extension": ".py",
   "mimetype": "text/x-python",
   "name": "python",
   "nbconvert_exporter": "python",
   "pygments_lexer": "ipython3",
   "version": "3.6.9"
  }
 },
 "nbformat": 4,
 "nbformat_minor": 2
}
