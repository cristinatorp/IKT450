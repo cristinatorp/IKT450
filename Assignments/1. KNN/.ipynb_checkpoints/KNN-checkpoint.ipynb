{
 "cells": [
  {
   "cell_type": "code",
   "execution_count": null,
   "metadata": {},
   "outputs": [],
   "source": [
    "import numpy\n",
    "import matplotlib.pyplot as plt\n",
    "from tqdm import tqdm_notebook"
   ]
  },
  {
   "cell_type": "markdown",
   "metadata": {},
   "source": [
    "### Preprocessing\n",
    "* Set seed for reproducability\n",
    "* Load dataset into numpy arrays and shuffle it\n",
    "* Split dataset into 80% train, 20% test"
   ]
  },
  {
   "cell_type": "code",
   "execution_count": null,
   "metadata": {},
   "outputs": [],
   "source": [
    "numpy.random.seed(7)\n",
    "\n",
    "dataset = numpy.loadtxt(\"./data/pima-indians-diabetes.csv\", delimiter=\",\")\n",
    "numpy.random.shuffle(dataset)"
   ]
  },
  {
   "cell_type": "code",
   "execution_count": null,
   "metadata": {},
   "outputs": [],
   "source": [
    "split_ratio = 0.8\n",
    "\n",
    "X_train = dataset[:int(len(dataset)*split_ratio), 0:8]\n",
    "X_test = dataset[int(len(dataset)*split_ratio):, 0:8]\n",
    "Y_train = dataset[:int(len(dataset)*split_ratio), 8]\n",
    "Y_test = dataset[int(len(dataset)*split_ratio):, 8]\n",
    "print(X_train)\n",
    "print()\n",
    "print(Y_train)"
   ]
  },
  {
   "cell_type": "markdown",
   "metadata": {},
   "source": [
    "### Functions"
   ]
  },
  {
   "cell_type": "code",
   "execution_count": null,
   "metadata": {},
   "outputs": [],
   "source": [
    "def distance(one, two):\n",
    "    return numpy.linalg.norm(one - two)\n",
    "\n",
    "\n",
    "def shortestDistance(x, x_rest, y_rest):\n",
    "    shortest = distance(x, x_rest[0])\n",
    "    predicted = y_rest[0]\n",
    "    \n",
    "    for i in range(len(x_rest)):\n",
    "        if distance(x, x_rest[i]) <= shortest:\n",
    "            shortest = distance(x, x_rest[i])\n",
    "            predicted = y_rest[i]\n",
    "            \n",
    "    return predicted, shortest\n",
    "\n",
    "\n",
    "def shortestDistanceWithK(x, x_rest, y_rest, n):\n",
    "    distances = [(index, distance(x, x_rest[index])) for index, rest in enumerate(x_rest)]\n",
    "    distances.sort(key=lambda z: z[1])\n",
    "    \n",
    "    pred = [y_rest[distances[i][0]] for i in range(0, n)]\n",
    "    return int(numpy.median(pred)), [k[0] for k in distances[0:n]]\n",
    "    "
   ]
  },
  {
   "cell_type": "markdown",
   "metadata": {},
   "source": [
    "### Test data\n",
    "|       | Positive | Negative |\n",
    "|-------|----------|----------|\n",
    "| True  | TP       | TN       |\n",
    "| False | FP       | FN       |\n",
    "\n",
    "* Calculate shortest distance and predict if diabetes or not\n",
    "* Add results to correct counter\n",
    "* Print results\n",
    "    * Accuracy\n",
    "    * Recall\n",
    "    * Precision\n",
    "    * F1"
   ]
  },
  {
   "cell_type": "code",
   "execution_count": null,
   "metadata": {},
   "outputs": [],
   "source": [
    "accuracies = []\n",
    "for j in tqdm_notebook(range(1, 1000)):\n",
    "    TP = 0\n",
    "    TN = 0\n",
    "    FP = 0\n",
    "    FN = 0\n",
    "\n",
    "    for i in range(len(X_test)):\n",
    "        x = X_test[i]\n",
    "        y = Y_test[i]\n",
    "\n",
    "        # pred, shortest = shortestDistance(x, X_train, Y_train)\n",
    "        pred, shortest = shortestDistanceWithK(x, X_train, Y_train, j)\n",
    "        pred = float(pred)\n",
    "        # print(f\"y^: {pred} | y: {y} | distance: {shortest}\")\n",
    "\n",
    "        if y == 1 and pred == 1:\n",
    "            TP += 1\n",
    "        if y == 0 and pred == 0:\n",
    "            TN += 1\n",
    "        if y == 1 and pred == 0:\n",
    "            FN += 1\n",
    "        if y == 0 and pred == 1:\n",
    "            FP += 1\n",
    "        \n",
    "    accuracies.append([(TP + TN) / (TP + TN + FP + FN), j])"
   ]
  },
  {
   "cell_type": "code",
   "execution_count": null,
   "metadata": {},
   "outputs": [],
   "source": [
    "x_values = [accuracy[1] for accuracy in accuracies]\n",
    "y_values = [accuracy[0] for accuracy in accuracies]\n",
    "\n",
    "plt.plot(x_values, y_values)\n",
    "# plt.xticks(x_values)\n",
    "plt.xlabel(\"Number of K's\")\n",
    "plt.ylabel(\"Accuracy\")\n",
    "plt.savefig(\"./images/hyperparameter_10_k\")\n",
    "plt.show()"
   ]
  },
  {
   "cell_type": "code",
   "execution_count": null,
   "metadata": {},
   "outputs": [],
   "source": [
    "accuracy = ((TP + TN) / (TP + TN + FP + FN)) * 100\n",
    "recall = (TP / (TP + FN)) * 100\n",
    "precision = (TP / (TP + FP)) * 100\n",
    "f1 = ((2 * TP) / (2 * TP + FP + FN)) * 100\n",
    "\n",
    "print(f\"Accuracy: {accuracy:.4g}%\")\n",
    "print(f\"Recall: {recall:.4g}%\")\n",
    "print(f\"Precision: {precision:.4g}%\")\n",
    "print(f\"F1: {f1:.4g}%\")"
   ]
  },
  {
   "cell_type": "markdown",
   "metadata": {},
   "source": [
    "| K       | Accuracy   | Recall   | Precision   | F1       |\n",
    "|:-------:|:----------:|:--------:|:-----------:|:--------:|\n",
    "| K = 1   | 69.48%     | 58.33%   | 50.91%      | 54.37%   |\n",
    "| K = 3   | 69.48%     | 54.17%   | 50.98%      | 52.53%   |\n",
    "| K = 6   | 77.92%     | 54.17%   | 68.42%      | 60.47%   |\n"
   ]
  },
  {
   "cell_type": "code",
   "execution_count": null,
   "metadata": {},
   "outputs": [],
   "source": []
  }
 ],
 "metadata": {
  "kernelspec": {
   "display_name": "Python 3",
   "language": "python",
   "name": "python3"
  },
  "language_info": {
   "codemirror_mode": {
    "name": "ipython",
    "version": 3
   },
   "file_extension": ".py",
   "mimetype": "text/x-python",
   "name": "python",
   "nbconvert_exporter": "python",
   "pygments_lexer": "ipython3",
   "version": "3.7.3"
  }
 },
 "nbformat": 4,
 "nbformat_minor": 2
}
